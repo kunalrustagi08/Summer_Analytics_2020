{
  "nbformat": 4,
  "nbformat_minor": 0,
  "metadata": {
    "kernelspec": {
      "display_name": "Python 3",
      "language": "python",
      "name": "python3"
    },
    "language_info": {
      "codemirror_mode": {
        "name": "ipython",
        "version": 3
      },
      "file_extension": ".py",
      "mimetype": "text/x-python",
      "name": "python",
      "nbconvert_exporter": "python",
      "pygments_lexer": "ipython3",
      "version": "3.7.4"
    },
    "colab": {
      "name": "ML_Algorithms.ipynb",
      "provenance": [],
      "collapsed_sections": []
    }
  },
  "cells": [
    {
      "cell_type": "code",
      "metadata": {
        "id": "q5RCysOH9jUp",
        "colab_type": "code",
        "colab": {
          "base_uri": "https://localhost:8080/",
          "height": 72
        },
        "outputId": "e69c3b0a-3eee-4cd1-9bc6-53c05b7f212f"
      },
      "source": [
        "import numpy as np\n",
        "import pandas as pd\n",
        "import matplotlib.pyplot as plt\n",
        "import seaborn as sns"
      ],
      "execution_count": 3,
      "outputs": [
        {
          "output_type": "stream",
          "text": [
            "/usr/local/lib/python3.6/dist-packages/statsmodels/tools/_testing.py:19: FutureWarning: pandas.util.testing is deprecated. Use the functions in the public API at pandas.testing instead.\n",
            "  import pandas.util.testing as tm\n"
          ],
          "name": "stderr"
        }
      ]
    },
    {
      "cell_type": "markdown",
      "metadata": {
        "id": "rVRV4pYw9jUt",
        "colab_type": "text"
      },
      "source": [
        "It is highly recommended to read the documentation before implementing any alogorithm.\n",
        "\n",
        "LINEAR REGRESSION : \n",
        "https://scikit-learn.org/stable/modules/generated/sklearn.linear_model.LinearRegression.html <br>\n",
        "LOGISTIC REGRESSION :\n",
        "https://scikit-learn.org/stable/modules/generated/sklearn.linear_model.LogisticRegression.html<br>\n",
        "SVM REGRESSOR :\n",
        "http://scikit-learn.org/stable/modules/generated/sklearn.svm.SVR.html<br>\n",
        "SVM CLASSIFIER :\n",
        "http://scikit-learn.org/stable/modules/generated/sklearn.svm.SVC.html<br>\n",
        "DECISION TREE CLASSIFIER :\n",
        "https://scikit-learn.org/stable/modules/generated/sklearn.tree.DecisionTreeClassifier.html<br>\n",
        "DECISION TREE Regressor :\n",
        "https://scikit-learn.org/stable/modules/generated/sklearn.tree.DecisionTreeRegressor.html<br>\n",
        "RANDOM FOREST CLASSIFIER :\n",
        "https://scikit-learn.org/stable/modules/generated/sklearn.ensemble.RandomForestClassifier.html<br>\n",
        "RANDOM FOREST CLASSIFIER :\n",
        "https://scikit-learn.org/stable/modules/generated/sklearn.ensemble.RandomForestRegressor.html<br>\n",
        "\n",
        "METRICS:\n",
        "R2_SCORE : http://scikit-learn.org/stable/modules/generated/sklearn.metrics.r2_score.html<br>\n",
        "MSE : http://scikit-learn.org/stable/modules/generated/sklearn.metrics.mean_squared_error.html<br>\n",
        "MAE : http://scikit-learn.org/stable/modules/generated/sklearn.metrics.mean_absolute_error.html<br>\n",
        "Confusion Matrix : https://scikit-learn.org/stable/modules/generated/sklearn.metrics.confusion_matrix.html<br>"
      ]
    },
    {
      "cell_type": "markdown",
      "metadata": {
        "id": "_lclLEtp9jUu",
        "colab_type": "text"
      },
      "source": [
        "WRITE THE CODE FOR IMPORTING THE DATA"
      ]
    },
    {
      "cell_type": "code",
      "metadata": {
        "id": "JRV20Tv-9jUu",
        "colab_type": "code",
        "colab": {}
      },
      "source": [
        "#WRITE CODE HERE IMPORT THE DATA AS 'data'\n"
      ],
      "execution_count": 0,
      "outputs": []
    },
    {
      "cell_type": "code",
      "metadata": {
        "id": "fmude2rPzgyy",
        "colab_type": "code",
        "colab": {}
      },
      "source": [
        "data = pd.read_csv('/content/gdrive/My Drive/Copy of WEEK4.csv')"
      ],
      "execution_count": 0,
      "outputs": []
    },
    {
      "cell_type": "markdown",
      "metadata": {
        "id": "vFgdtQPl9jUx",
        "colab_type": "text"
      },
      "source": [
        "ONE HOT ENCODING THE COLOR COLUMN AND THEN DROPPING THE COLOR COLUMN"
      ]
    },
    {
      "cell_type": "code",
      "metadata": {
        "id": "wr-anAzs9jUy",
        "colab_type": "code",
        "colab": {}
      },
      "source": [
        "#ONE HOT ENCODING THE COLOR COLUMN\n",
        "data = pd.concat([data,pd.get_dummies(data['color']).drop('white',axis=1)],axis = 1)\n",
        "data = data.drop('color',axis = 1)"
      ],
      "execution_count": 0,
      "outputs": []
    },
    {
      "cell_type": "code",
      "metadata": {
        "id": "dAxfI_kg9jU0",
        "colab_type": "code",
        "colab": {
          "base_uri": "https://localhost:8080/",
          "height": 244
        },
        "outputId": "7e6bd5b2-b8c0-44ba-e89f-93bbc78ecd4c"
      },
      "source": [
        "# VIEWING THE DATA ONCE\n",
        "data.head()"
      ],
      "execution_count": 6,
      "outputs": [
        {
          "output_type": "execute_result",
          "data": {
            "text/html": [
              "<div>\n",
              "<style scoped>\n",
              "    .dataframe tbody tr th:only-of-type {\n",
              "        vertical-align: middle;\n",
              "    }\n",
              "\n",
              "    .dataframe tbody tr th {\n",
              "        vertical-align: top;\n",
              "    }\n",
              "\n",
              "    .dataframe thead th {\n",
              "        text-align: right;\n",
              "    }\n",
              "</style>\n",
              "<table border=\"1\" class=\"dataframe\">\n",
              "  <thead>\n",
              "    <tr style=\"text-align: right;\">\n",
              "      <th></th>\n",
              "      <th>price</th>\n",
              "      <th>year</th>\n",
              "      <th>mileage</th>\n",
              "      <th>AGE_IN_YEARS</th>\n",
              "      <th>chevrolet</th>\n",
              "      <th>dodge</th>\n",
              "      <th>gmc</th>\n",
              "      <th>jeep</th>\n",
              "      <th>nissan</th>\n",
              "      <th>salvage insurance</th>\n",
              "      <th>black</th>\n",
              "      <th>blue</th>\n",
              "      <th>gray</th>\n",
              "      <th>no_color</th>\n",
              "      <th>silver</th>\n",
              "      <th>white</th>\n",
              "      <th>Goa</th>\n",
              "      <th>MP</th>\n",
              "      <th>Maharashtra</th>\n",
              "      <th>UP</th>\n",
              "      <th>black</th>\n",
              "      <th>blue</th>\n",
              "      <th>gray</th>\n",
              "      <th>no_color</th>\n",
              "      <th>red</th>\n",
              "      <th>silver</th>\n",
              "    </tr>\n",
              "  </thead>\n",
              "  <tbody>\n",
              "    <tr>\n",
              "      <th>0</th>\n",
              "      <td>2899</td>\n",
              "      <td>2011</td>\n",
              "      <td>190552.0</td>\n",
              "      <td>3</td>\n",
              "      <td>0</td>\n",
              "      <td>0</td>\n",
              "      <td>0</td>\n",
              "      <td>0</td>\n",
              "      <td>0</td>\n",
              "      <td>0</td>\n",
              "      <td>0</td>\n",
              "      <td>0</td>\n",
              "      <td>0</td>\n",
              "      <td>0</td>\n",
              "      <td>1</td>\n",
              "      <td>0</td>\n",
              "      <td>0</td>\n",
              "      <td>0</td>\n",
              "      <td>0</td>\n",
              "      <td>1</td>\n",
              "      <td>0</td>\n",
              "      <td>0</td>\n",
              "      <td>0</td>\n",
              "      <td>0</td>\n",
              "      <td>0</td>\n",
              "      <td>1</td>\n",
              "    </tr>\n",
              "    <tr>\n",
              "      <th>1</th>\n",
              "      <td>5350</td>\n",
              "      <td>2018</td>\n",
              "      <td>39590.0</td>\n",
              "      <td>2</td>\n",
              "      <td>0</td>\n",
              "      <td>1</td>\n",
              "      <td>0</td>\n",
              "      <td>0</td>\n",
              "      <td>0</td>\n",
              "      <td>0</td>\n",
              "      <td>0</td>\n",
              "      <td>0</td>\n",
              "      <td>0</td>\n",
              "      <td>0</td>\n",
              "      <td>1</td>\n",
              "      <td>0</td>\n",
              "      <td>0</td>\n",
              "      <td>1</td>\n",
              "      <td>0</td>\n",
              "      <td>0</td>\n",
              "      <td>0</td>\n",
              "      <td>0</td>\n",
              "      <td>0</td>\n",
              "      <td>0</td>\n",
              "      <td>0</td>\n",
              "      <td>1</td>\n",
              "    </tr>\n",
              "    <tr>\n",
              "      <th>2</th>\n",
              "      <td>25000</td>\n",
              "      <td>2014</td>\n",
              "      <td>64146.0</td>\n",
              "      <td>2</td>\n",
              "      <td>0</td>\n",
              "      <td>0</td>\n",
              "      <td>0</td>\n",
              "      <td>0</td>\n",
              "      <td>0</td>\n",
              "      <td>0</td>\n",
              "      <td>0</td>\n",
              "      <td>1</td>\n",
              "      <td>0</td>\n",
              "      <td>0</td>\n",
              "      <td>0</td>\n",
              "      <td>0</td>\n",
              "      <td>0</td>\n",
              "      <td>0</td>\n",
              "      <td>0</td>\n",
              "      <td>1</td>\n",
              "      <td>0</td>\n",
              "      <td>1</td>\n",
              "      <td>0</td>\n",
              "      <td>0</td>\n",
              "      <td>0</td>\n",
              "      <td>0</td>\n",
              "    </tr>\n",
              "    <tr>\n",
              "      <th>3</th>\n",
              "      <td>27700</td>\n",
              "      <td>2018</td>\n",
              "      <td>6654.0</td>\n",
              "      <td>3</td>\n",
              "      <td>1</td>\n",
              "      <td>0</td>\n",
              "      <td>0</td>\n",
              "      <td>0</td>\n",
              "      <td>0</td>\n",
              "      <td>0</td>\n",
              "      <td>0</td>\n",
              "      <td>0</td>\n",
              "      <td>0</td>\n",
              "      <td>0</td>\n",
              "      <td>0</td>\n",
              "      <td>0</td>\n",
              "      <td>0</td>\n",
              "      <td>0</td>\n",
              "      <td>1</td>\n",
              "      <td>0</td>\n",
              "      <td>0</td>\n",
              "      <td>0</td>\n",
              "      <td>0</td>\n",
              "      <td>0</td>\n",
              "      <td>1</td>\n",
              "      <td>0</td>\n",
              "    </tr>\n",
              "    <tr>\n",
              "      <th>4</th>\n",
              "      <td>5700</td>\n",
              "      <td>2018</td>\n",
              "      <td>45561.0</td>\n",
              "      <td>1</td>\n",
              "      <td>0</td>\n",
              "      <td>1</td>\n",
              "      <td>0</td>\n",
              "      <td>0</td>\n",
              "      <td>0</td>\n",
              "      <td>0</td>\n",
              "      <td>0</td>\n",
              "      <td>0</td>\n",
              "      <td>0</td>\n",
              "      <td>0</td>\n",
              "      <td>0</td>\n",
              "      <td>1</td>\n",
              "      <td>0</td>\n",
              "      <td>0</td>\n",
              "      <td>0</td>\n",
              "      <td>1</td>\n",
              "      <td>0</td>\n",
              "      <td>0</td>\n",
              "      <td>0</td>\n",
              "      <td>0</td>\n",
              "      <td>0</td>\n",
              "      <td>0</td>\n",
              "    </tr>\n",
              "  </tbody>\n",
              "</table>\n",
              "</div>"
            ],
            "text/plain": [
              "   price  year   mileage  AGE_IN_YEARS  ...  gray  no_color  red  silver\n",
              "0   2899  2011  190552.0             3  ...     0         0    0       1\n",
              "1   5350  2018   39590.0             2  ...     0         0    0       1\n",
              "2  25000  2014   64146.0             2  ...     0         0    0       0\n",
              "3  27700  2018    6654.0             3  ...     0         0    1       0\n",
              "4   5700  2018   45561.0             1  ...     0         0    0       0\n",
              "\n",
              "[5 rows x 26 columns]"
            ]
          },
          "metadata": {
            "tags": []
          },
          "execution_count": 6
        }
      ]
    },
    {
      "cell_type": "markdown",
      "metadata": {
        "id": "-ZcVR3RC9jU4",
        "colab_type": "text"
      },
      "source": [
        "WE USE THE train_test_split_function TO SPLIT THE DATA INTO TRAIN AND TEST <br>\n",
        "HERE WE IMPORT IT FROM SKLEARN"
      ]
    },
    {
      "cell_type": "code",
      "metadata": {
        "id": "di5Jh08_9jU4",
        "colab_type": "code",
        "colab": {}
      },
      "source": [
        "from sklearn.model_selection import train_test_split as tts"
      ],
      "execution_count": 0,
      "outputs": []
    },
    {
      "cell_type": "markdown",
      "metadata": {
        "id": "ll5Q2xCm9jU7",
        "colab_type": "text"
      },
      "source": [
        "LET US LOOK AT THE PRICES DISTRIBUTION"
      ]
    },
    {
      "cell_type": "code",
      "metadata": {
        "id": "SZu32pba9jU7",
        "colab_type": "code",
        "colab": {
          "base_uri": "https://localhost:8080/",
          "height": 265
        },
        "outputId": "79cc559f-90ec-4f9f-df28-50bfc951c566"
      },
      "source": [
        "plt.hist(data['price']);"
      ],
      "execution_count": 8,
      "outputs": [
        {
          "output_type": "display_data",
          "data": {
            "image/png": "[encoded data removed]",
            "text/plain": [
              "<Figure size 432x288 with 1 Axes>"
            ]
          },
          "metadata": {
            "tags": [],
            "needs_background": "light"
          }
        }
      ]
    },
    {
      "cell_type": "markdown",
      "metadata": {
        "id": "jn6ZMkZd9jU_",
        "colab_type": "text"
      },
      "source": [
        "IT IS LEFT-SKEWED, WE HAVE LEARNT HOW TO HANDLE SKEWED DATA<br>\n",
        "We will either use log transform or sqrt transform"
      ]
    },
    {
      "cell_type": "code",
      "metadata": {
        "id": "nC13GB_f9jU_",
        "colab_type": "code",
        "colab": {
          "base_uri": "https://localhost:8080/",
          "height": 545
        },
        "outputId": "25fde45f-b05d-4ac9-d5fb-ba8a284b9848"
      },
      "source": [
        "#WE HAVE WRITTEN THE CODE FOR PLOTTING THE HISTOGRAM FOR THE LOG-TRANSFORMED PRICE COLUMN AND SQRT TRANSFORMED SQRT COLUMN.\n",
        "plt.hist(np.sqrt(data['price']));\n",
        "plt.title('SQRT TRANSFORM');\n",
        "plt.show()\n",
        "plt.hist(np.log(data['price']));\n",
        "plt.title('LOG TRANSFORM');\n",
        "plt.show()"
      ],
      "execution_count": 9,
      "outputs": [
        {
          "output_type": "display_data",
          "data": {
            "image/png": "[encoded data removed]",
            "text/plain": [
              "<Figure size 432x288 with 1 Axes>"
            ]
          },
          "metadata": {
            "tags": [],
            "needs_background": "light"
          }
        },
        {
          "output_type": "display_data",
          "data": {
            "image/png": "[encoded data removed]",
            "text/plain": [
              "<Figure size 432x288 with 1 Axes>"
            ]
          },
          "metadata": {
            "tags": [],
            "needs_background": "light"
          }
        }
      ]
    },
    {
      "cell_type": "markdown",
      "metadata": {
        "id": "CIxuDmN89jVC",
        "colab_type": "text"
      },
      "source": [
        "CLEARLY SQRT TRANSFORM IS BETTER"
      ]
    },
    {
      "cell_type": "code",
      "metadata": {
        "id": "ZEDTdMPP9jVC",
        "colab_type": "code",
        "colab": {}
      },
      "source": [
        "#WE CONVERT PRICES TO THEIR SQRT AND ROUND OFF DECIMALS TO TWO\n",
        "data['price'] = round(np.sqrt(data['price']),2)"
      ],
      "execution_count": 0,
      "outputs": []
    },
    {
      "cell_type": "code",
      "metadata": {
        "id": "DsRrd_c79jVG",
        "colab_type": "code",
        "colab": {}
      },
      "source": [
        "# HERE WE SPLIT DATA INTO TRAIN TEST SPLIT\n",
        "X_train,X_test,y_train,y_test = tts(data.drop('price',axis = 1),data['price'],test_size = 0.2,random_state = 1)"
      ],
      "execution_count": 0,
      "outputs": []
    },
    {
      "cell_type": "code",
      "metadata": {
        "id": "66Pr1G_89jVI",
        "colab_type": "code",
        "colab": {
          "base_uri": "https://localhost:8080/",
          "height": 225
        },
        "outputId": "9c256de9-6552-43f0-853f-410604c4bd86"
      },
      "source": [
        "#LET US PRINT THE SHAPES\n",
        "print(X_train.shape)\n",
        "print(X_test.shape)\n",
        "print(y_train.shape)\n",
        "print(y_test.shape)\n",
        "\n",
        "print('\\nExpected shapes')\n",
        "print((1722, 25))\n",
        "print((431, 25))\n",
        "print((1722,))\n",
        "print((431,))\n",
        "print('\\nVerify if they are matching')"
      ],
      "execution_count": 12,
      "outputs": [
        {
          "output_type": "stream",
          "text": [
            "(1722, 25)\n",
            "(431, 25)\n",
            "(1722,)\n",
            "(431,)\n",
            "\n",
            "Expected shapes\n",
            "(1722, 25)\n",
            "(431, 25)\n",
            "(1722,)\n",
            "(431,)\n",
            "\n",
            "Verify if they are matching\n"
          ],
          "name": "stdout"
        }
      ]
    },
    {
      "cell_type": "markdown",
      "metadata": {
        "id": "MTbjksBn9jVK",
        "colab_type": "text"
      },
      "source": [
        "NOW <br>\n",
        "LET US APPLY LINEAR REGRESSION ON THE DATA, THIS TIME WE WILL IMPORT IT FROM SKLEARN <br>\n"
      ]
    },
    {
      "cell_type": "code",
      "metadata": {
        "id": "Qza5_BMn9jVK",
        "colab_type": "code",
        "colab": {
          "base_uri": "https://localhost:8080/",
          "height": 312
        },
        "outputId": "72240792-412a-41a0-b4a8-8315e75025d1"
      },
      "source": [
        "from sklearn.linear_model import LinearRegression\n",
        "from sklearn.metrics import r2_score,mean_squared_error,mean_absolute_error\n",
        "# INITIALIZE LINEAR REGRESSION WITH ALL DEFAULT PARAMETERS\n",
        "Linreg = LinearRegression()\n",
        "Linreg.fit(X_train,y_train)\n",
        "\n",
        "# FIND TEST ERROR AND TRAIN ERROR WITH THE METRICS IMPORTED ABOVE\n",
        "# NOTE THAT WE HAVE SQUARED BACK THE VALUES AS WE ARE PREDICTING PRICES NOT THEIR SQUARE ROOT \n",
        "print(\"Linear Regression Training R2 score is \" + str(r2_score(np.square(y_train),np.square(Linreg.predict(X_train)))))\n",
        "print(\"Linear Regression Testing R2 score is \" + str(r2_score(np.square(y_test),np.square(Linreg.predict(X_test)))))\n",
        "\n",
        "# WRITE CODE FOR MEAN SQUARE ERROR AND MEAN\n",
        "\n",
        "# Start code\n",
        "print(\"Linear Regression Training mean_square_error is \" + str(mean_squared_error(np.square(y_train),np.square(Linreg.predict(X_train)))))\n",
        "print(\"Linear Regression Testing mean_square_error is \" + str(mean_squared_error(np.square(y_test),np.square(Linreg.predict(X_test)))))\n",
        "\n",
        "print(\"Linear Regression Training mean_absolute_error is \" + str(mean_absolute_error(np.square(y_train),np.square(Linreg.predict(X_train)))))\n",
        "print(\"Linear Regression Testing mean_absolute_error is \" + str(mean_absolute_error(np.square(y_test),np.square(Linreg.predict(X_test)))))\n",
        "\n",
        "# End code\n",
        "\n",
        "print(\"\\n\")\n",
        "print(\"The correct values are :\")\n",
        "\n",
        "\n",
        "print('Linear Regression Training R2 score is 0.3577935806672855')\n",
        "print('Linear Regression Testing R2 score is 0.33405970134102436')\n",
        "print('Linear Regression Training mean_square_error is 90997459.24038002')\n",
        "print('Linear Regression Testing mean_square_error is 93998879.06677869')\n",
        "print('Linear Regression Training mean_absolute_error is 6864.980505017769')\n",
        "print('Linear Regression Testing mean_absolute_error is 6926.987292556893')\n",
        "\n",
        "print(\"\\nPlease verify if you have got the same values\")"
      ],
      "execution_count": 14,
      "outputs": [
        {
          "output_type": "stream",
          "text": [
            "Linear Regression Training R2 score is 0.3577935806672855\n",
            "Linear Regression Testing R2 score is 0.33405970134102436\n",
            "Linear Regression Training mean_square_error is 90997459.24038002\n",
            "Linear Regression Testing mean_square_error is 93998879.06677869\n",
            "Linear Regression Training mean_absolute_error is 6864.980505017768\n",
            "Linear Regression Testing mean_absolute_error is 6926.987292556893\n",
            "\n",
            "\n",
            "The correct values are :\n",
            "Linear Regression Training R2 score is 0.3577935806672855\n",
            "Linear Regression Testing R2 score is 0.33405970134102436\n",
            "Linear Regression Training mean_square_error is 90997459.24038002\n",
            "Linear Regression Testing mean_square_error is 93998879.06677869\n",
            "Linear Regression Training mean_absolute_error is 6864.980505017769\n",
            "Linear Regression Testing mean_absolute_error is 6926.987292556893\n",
            "\n",
            "Please verify if you have got the same values\n"
          ],
          "name": "stdout"
        }
      ]
    },
    {
      "cell_type": "markdown",
      "metadata": {
        "id": "Z3W4-0--9jVN",
        "colab_type": "text"
      },
      "source": [
        "<br>\n",
        "NOW LET US WRITE THE SKLEARN IMPLEMENTATION OF DECISION TREE IN REGRESSION <br>"
      ]
    },
    {
      "cell_type": "code",
      "metadata": {
        "id": "f43pHl3y9jVO",
        "colab_type": "code",
        "colab": {
          "base_uri": "https://localhost:8080/",
          "height": 121
        },
        "outputId": "c462ce17-b35f-4e85-fb94-7064667b8fee"
      },
      "source": [
        "from sklearn.tree import DecisionTreeRegressor\n",
        "\n",
        "# INITIALIZE THE DECISION TREE WITH criterion as mse, max depth as 7 and Random State as 1\n",
        "# USE THE FIT METHOD TO FIND THE R2_SCORE, MSE, MAE For training as well as testing data\n",
        "\n",
        "\n",
        "# START CODE\n",
        "model = DecisionTreeRegressor(criterion='mse',max_depth=7,random_state=1)\n",
        "model.fit(X_train,y_train)\n",
        "print(\"DecisionTreeRegressor Training R2 score is \" + str(r2_score(np.square(y_train),np.square(model.predict(X_train)))))\n",
        "print(\"DecisionTreeRegressor Testing R2 score is \" + str(r2_score(np.square(y_test),np.square(model.predict(X_test)))))\n",
        "\n",
        "# WRITE CODE FOR MEAN SQUARE ERROR AND MEAN\n",
        "\n",
        "print(\"DecisionTreeRegressor Training mean_square_error is \" + str(mean_squared_error(np.square(y_train),np.square(model.predict(X_train)))))\n",
        "print(\"DecisionTreeRegressor Testing mean_square_error is \" + str(mean_squared_error(np.square(y_test),np.square(model.predict(X_test)))))\n",
        "\n",
        "print(\"DecisionTreeRegressor Training mean_absolute_error is \" + str(mean_absolute_error(np.square(y_train),np.square(model.predict(X_train)))))\n",
        "print(\"DecisionTreeRegressor Testing mean_absolute_error is \" + str(mean_absolute_error(np.square(y_test),np.square(model.predict(X_test)))))\n",
        "# END CODE"
      ],
      "execution_count": 15,
      "outputs": [
        {
          "output_type": "stream",
          "text": [
            "DecisionTreeRegressor Training R2 score is 0.422869230755335\n",
            "DecisionTreeRegressor Testing R2 score is 0.36145560633416207\n",
            "DecisionTreeRegressor Training mean_square_error is 81776562.90835412\n",
            "DecisionTreeRegressor Testing mean_square_error is 90131889.2396716\n",
            "DecisionTreeRegressor Training mean_absolute_error is 6266.244817595775\n",
            "DecisionTreeRegressor Testing mean_absolute_error is 6846.025816839579\n"
          ],
          "name": "stdout"
        }
      ]
    },
    {
      "cell_type": "markdown",
      "metadata": {
        "id": "TvQ6cQkC9jVQ",
        "colab_type": "text"
      },
      "source": [
        "<br>\n",
        "NOW LET US WRITE THE SKLEARN IMPLEMENTATION OF SVM IN REGRESSION <br>"
      ]
    },
    {
      "cell_type": "code",
      "metadata": {
        "id": "wTlrmqiG9jVQ",
        "colab_type": "code",
        "colab": {
          "base_uri": "https://localhost:8080/",
          "height": 121
        },
        "outputId": "8b988855-0a24-448e-a063-046cb549b63d"
      },
      "source": [
        "from sklearn.svm import SVR\n",
        "# INITIALIZE THE SVM WITH kernel as 'poly', maximum number of iterations as 3000, degree as 2, C(regularization parameter) as 0.1 \n",
        "# FIT THE DATA using FIT METHOD\n",
        "# Calculate the R2_score, mse, mae for training data as well as testing data.\n",
        "\n",
        "# START CODE\n",
        "svrmodel = SVR(kernel='poly', degree=2, C=0.1, max_iter=3000)\n",
        "svrmodel.fit(X_train,y_train)\n",
        "\n",
        "print(\"SVR Training R2 score is \" + str(r2_score(np.square(y_train),np.square(svrmodel.predict(X_train)))))\n",
        "print(\"SVR Testing R2 score is \" + str(r2_score(np.square(y_test),np.square(svrmodel.predict(X_test)))))\n",
        "\n",
        "# WRITE CODE FOR MEAN SQUARE ERROR AND MEAN\n",
        "\n",
        "print(\"SVR Training mean_square_error is \" + str(mean_squared_error(np.square(y_train),np.square(svrmodel.predict(X_train)))))\n",
        "print(\"SVR Testing mean_square_error is \" + str(mean_squared_error(np.square(y_test),np.square(svrmodel.predict(X_test)))))\n",
        "\n",
        "print(\"SVR Training mean_absolute_error is \" + str(mean_absolute_error(np.square(y_train),np.square(svrmodel.predict(X_train)))))\n",
        "print(\"SVR Testing mean_absolute_error is \" + str(mean_absolute_error(np.square(y_test),np.square(svrmodel.predict(X_test)))))\n",
        "# END CODE"
      ],
      "execution_count": 16,
      "outputs": [
        {
          "output_type": "stream",
          "text": [
            "SVR Training R2 score is -21.378337117720697\n",
            "SVR Testing R2 score is 0.0879391173112708\n",
            "SVR Training mean_square_error is 3170899197.5713468\n",
            "SVR Testing mean_square_error is 128739319.10418974\n",
            "SVR Training mean_absolute_error is 9831.444528754593\n",
            "SVR Testing mean_absolute_error is 8348.703212635415\n"
          ],
          "name": "stdout"
        }
      ]
    },
    {
      "cell_type": "markdown",
      "metadata": {
        "id": "GByCRcmJ9jVT",
        "colab_type": "text"
      },
      "source": [
        "YOU MIGHT SEE WORSE VALUES WHEN COMPARED TO LINEAR REGRESSION OR DECISION TREE AS THE DATA IS UNSCALED AND SVM REQUIRES MUCH MORE PREPROCESSING AND TUNING...BUT WE WON'T DO THAT HERE AS OUR AIM WAS JUST TO IMPLEMENT THE MODELS"
      ]
    },
    {
      "cell_type": "markdown",
      "metadata": {
        "id": "BEE9QB4O9jVT",
        "colab_type": "text"
      },
      "source": [
        "<br>\n",
        "NOW LET US WRITE THE SKLEARN IMPLEMENTATION OF Random Forest IN REGRESSION <br>"
      ]
    },
    {
      "cell_type": "code",
      "metadata": {
        "id": "uqrGh5AR9jVU",
        "colab_type": "code",
        "colab": {
          "base_uri": "https://localhost:8080/",
          "height": 121
        },
        "outputId": "7d94676f-a748-4f3d-a5ce-a5bcd4f6a825"
      },
      "source": [
        "from sklearn.ensemble import RandomForestRegressor\n",
        "# INITIALIZE THE Random Forest Regressor WITH no: of trees as 200, max_depth as 9, n_jobs as -1(read documentation for more details) and random state as 1 \n",
        "\n",
        "# FIT THE DATA using FIT METHOD\n",
        "# Calculate the R2_score, mse, mae for training data as well as testing data.\n",
        "\n",
        "# START CODE\n",
        "rfmodel = RandomForestRegressor(n_estimators=200, max_depth=9, n_jobs=-1, random_state=1)\n",
        "rfmodel.fit(X_train, y_train)\n",
        "print(\"Random forest Training R2 score is \" + str(r2_score(np.square(y_train),np.square(rfmodel.predict(X_train)))))\n",
        "print(\"Random forest Testing R2 score is \" + str(r2_score(np.square(y_test),np.square(rfmodel.predict(X_test)))))\n",
        "\n",
        "# WRITE CODE FOR MEAN SQUARE ERROR AND MEAN\n",
        "\n",
        "print(\"Random forest Training mean_square_error is \" + str(mean_squared_error(np.square(y_train),np.square(rfmodel.predict(X_train)))))\n",
        "print(\"Random forest Testing mean_square_error is \" + str(mean_squared_error(np.square(y_test),np.square(rfmodel.predict(X_test)))))\n",
        "\n",
        "print(\"Random forest Training mean_absolute_error is \" + str(mean_absolute_error(np.square(y_train),np.square(rfmodel.predict(X_train)))))\n",
        "print(\"Random forest Testing mean_absolute_error is \" + str(mean_absolute_error(np.square(y_test),np.square(rfmodel.predict(X_test)))))\n",
        "# END CODE"
      ],
      "execution_count": 20,
      "outputs": [
        {
          "output_type": "stream",
          "text": [
            "Random forest Training R2 score is 0.5524364393379151\n",
            "Random forest Testing R2 score is 0.3997413290406362\n",
            "Random forest Training mean_square_error is 63417533.12143005\n",
            "Random forest Testing mean_square_error is 84727778.65210524\n",
            "Random forest Training mean_absolute_error is 5528.669046457424\n",
            "Random forest Testing mean_absolute_error is 6695.668840563838\n"
          ],
          "name": "stdout"
        }
      ]
    },
    {
      "cell_type": "markdown",
      "metadata": {
        "id": "sUEvPws29jVW",
        "colab_type": "text"
      },
      "source": [
        "NOW FOR CLASSIFICATION MODELS WE NEED TO CONVERT THE TARGET VARIABLE INTO DIFFERENT CLASSES"
      ]
    },
    {
      "cell_type": "code",
      "metadata": {
        "id": "5EwOs0dv9jVX",
        "colab_type": "code",
        "colab": {
          "base_uri": "https://localhost:8080/",
          "height": 173
        },
        "outputId": "2d055814-25b3-4c6e-cf57-4de7df0b6738"
      },
      "source": [
        "# WE FIND THE MEDIAN\n",
        "np.square(data['price']).describe()"
      ],
      "execution_count": 21,
      "outputs": [
        {
          "output_type": "execute_result",
          "data": {
            "text/plain": [
              "count     2153.000000\n",
              "mean     19298.257905\n",
              "std      11904.254199\n",
              "min         25.000000\n",
              "25%      10799.366400\n",
              "50%      17300.140900\n",
              "75%      26001.562500\n",
              "max      74000.320900\n",
              "Name: price, dtype: float64"
            ]
          },
          "metadata": {
            "tags": []
          },
          "execution_count": 21
        }
      ]
    },
    {
      "cell_type": "markdown",
      "metadata": {
        "id": "SxdlNAd49jVa",
        "colab_type": "text"
      },
      "source": [
        "WE WILL DO BINARY CLASSIFICATION AND DIVIDE THE DATA EQUALLY(ALMOST) INTO 1's AND 0's <br>\n",
        "WE HAVE CHOSEN THRESHOLD AT price = 20000"
      ]
    },
    {
      "cell_type": "code",
      "metadata": {
        "id": "waGj0igv9jVa",
        "colab_type": "code",
        "colab": {}
      },
      "source": [
        "data.loc[np.square(data['price']) < 20000,'price'] = 0\n",
        "data.loc[np.square(data['price']) >= 20000,'price'] = 1\n"
      ],
      "execution_count": 0,
      "outputs": []
    },
    {
      "cell_type": "code",
      "metadata": {
        "id": "G4pCJ7pw9jVc",
        "colab_type": "code",
        "colab": {
          "base_uri": "https://localhost:8080/",
          "height": 244
        },
        "outputId": "b9f71e0a-6aa5-453c-b038-6a34707dade3"
      },
      "source": [
        "data.head()"
      ],
      "execution_count": 23,
      "outputs": [
        {
          "output_type": "execute_result",
          "data": {
            "text/html": [
              "<div>\n",
              "<style scoped>\n",
              "    .dataframe tbody tr th:only-of-type {\n",
              "        vertical-align: middle;\n",
              "    }\n",
              "\n",
              "    .dataframe tbody tr th {\n",
              "        vertical-align: top;\n",
              "    }\n",
              "\n",
              "    .dataframe thead th {\n",
              "        text-align: right;\n",
              "    }\n",
              "</style>\n",
              "<table border=\"1\" class=\"dataframe\">\n",
              "  <thead>\n",
              "    <tr style=\"text-align: right;\">\n",
              "      <th></th>\n",
              "      <th>price</th>\n",
              "      <th>year</th>\n",
              "      <th>mileage</th>\n",
              "      <th>AGE_IN_YEARS</th>\n",
              "      <th>chevrolet</th>\n",
              "      <th>dodge</th>\n",
              "      <th>gmc</th>\n",
              "      <th>jeep</th>\n",
              "      <th>nissan</th>\n",
              "      <th>salvage insurance</th>\n",
              "      <th>black</th>\n",
              "      <th>blue</th>\n",
              "      <th>gray</th>\n",
              "      <th>no_color</th>\n",
              "      <th>silver</th>\n",
              "      <th>white</th>\n",
              "      <th>Goa</th>\n",
              "      <th>MP</th>\n",
              "      <th>Maharashtra</th>\n",
              "      <th>UP</th>\n",
              "      <th>black</th>\n",
              "      <th>blue</th>\n",
              "      <th>gray</th>\n",
              "      <th>no_color</th>\n",
              "      <th>red</th>\n",
              "      <th>silver</th>\n",
              "    </tr>\n",
              "  </thead>\n",
              "  <tbody>\n",
              "    <tr>\n",
              "      <th>0</th>\n",
              "      <td>0.0</td>\n",
              "      <td>2011</td>\n",
              "      <td>190552.0</td>\n",
              "      <td>3</td>\n",
              "      <td>0</td>\n",
              "      <td>0</td>\n",
              "      <td>0</td>\n",
              "      <td>0</td>\n",
              "      <td>0</td>\n",
              "      <td>0</td>\n",
              "      <td>0</td>\n",
              "      <td>0</td>\n",
              "      <td>0</td>\n",
              "      <td>0</td>\n",
              "      <td>1</td>\n",
              "      <td>0</td>\n",
              "      <td>0</td>\n",
              "      <td>0</td>\n",
              "      <td>0</td>\n",
              "      <td>1</td>\n",
              "      <td>0</td>\n",
              "      <td>0</td>\n",
              "      <td>0</td>\n",
              "      <td>0</td>\n",
              "      <td>0</td>\n",
              "      <td>1</td>\n",
              "    </tr>\n",
              "    <tr>\n",
              "      <th>1</th>\n",
              "      <td>0.0</td>\n",
              "      <td>2018</td>\n",
              "      <td>39590.0</td>\n",
              "      <td>2</td>\n",
              "      <td>0</td>\n",
              "      <td>1</td>\n",
              "      <td>0</td>\n",
              "      <td>0</td>\n",
              "      <td>0</td>\n",
              "      <td>0</td>\n",
              "      <td>0</td>\n",
              "      <td>0</td>\n",
              "      <td>0</td>\n",
              "      <td>0</td>\n",
              "      <td>1</td>\n",
              "      <td>0</td>\n",
              "      <td>0</td>\n",
              "      <td>1</td>\n",
              "      <td>0</td>\n",
              "      <td>0</td>\n",
              "      <td>0</td>\n",
              "      <td>0</td>\n",
              "      <td>0</td>\n",
              "      <td>0</td>\n",
              "      <td>0</td>\n",
              "      <td>1</td>\n",
              "    </tr>\n",
              "    <tr>\n",
              "      <th>2</th>\n",
              "      <td>1.0</td>\n",
              "      <td>2014</td>\n",
              "      <td>64146.0</td>\n",
              "      <td>2</td>\n",
              "      <td>0</td>\n",
              "      <td>0</td>\n",
              "      <td>0</td>\n",
              "      <td>0</td>\n",
              "      <td>0</td>\n",
              "      <td>0</td>\n",
              "      <td>0</td>\n",
              "      <td>1</td>\n",
              "      <td>0</td>\n",
              "      <td>0</td>\n",
              "      <td>0</td>\n",
              "      <td>0</td>\n",
              "      <td>0</td>\n",
              "      <td>0</td>\n",
              "      <td>0</td>\n",
              "      <td>1</td>\n",
              "      <td>0</td>\n",
              "      <td>1</td>\n",
              "      <td>0</td>\n",
              "      <td>0</td>\n",
              "      <td>0</td>\n",
              "      <td>0</td>\n",
              "    </tr>\n",
              "    <tr>\n",
              "      <th>3</th>\n",
              "      <td>1.0</td>\n",
              "      <td>2018</td>\n",
              "      <td>6654.0</td>\n",
              "      <td>3</td>\n",
              "      <td>1</td>\n",
              "      <td>0</td>\n",
              "      <td>0</td>\n",
              "      <td>0</td>\n",
              "      <td>0</td>\n",
              "      <td>0</td>\n",
              "      <td>0</td>\n",
              "      <td>0</td>\n",
              "      <td>0</td>\n",
              "      <td>0</td>\n",
              "      <td>0</td>\n",
              "      <td>0</td>\n",
              "      <td>0</td>\n",
              "      <td>0</td>\n",
              "      <td>1</td>\n",
              "      <td>0</td>\n",
              "      <td>0</td>\n",
              "      <td>0</td>\n",
              "      <td>0</td>\n",
              "      <td>0</td>\n",
              "      <td>1</td>\n",
              "      <td>0</td>\n",
              "    </tr>\n",
              "    <tr>\n",
              "      <th>4</th>\n",
              "      <td>0.0</td>\n",
              "      <td>2018</td>\n",
              "      <td>45561.0</td>\n",
              "      <td>1</td>\n",
              "      <td>0</td>\n",
              "      <td>1</td>\n",
              "      <td>0</td>\n",
              "      <td>0</td>\n",
              "      <td>0</td>\n",
              "      <td>0</td>\n",
              "      <td>0</td>\n",
              "      <td>0</td>\n",
              "      <td>0</td>\n",
              "      <td>0</td>\n",
              "      <td>0</td>\n",
              "      <td>1</td>\n",
              "      <td>0</td>\n",
              "      <td>0</td>\n",
              "      <td>0</td>\n",
              "      <td>1</td>\n",
              "      <td>0</td>\n",
              "      <td>0</td>\n",
              "      <td>0</td>\n",
              "      <td>0</td>\n",
              "      <td>0</td>\n",
              "      <td>0</td>\n",
              "    </tr>\n",
              "  </tbody>\n",
              "</table>\n",
              "</div>"
            ],
            "text/plain": [
              "   price  year   mileage  AGE_IN_YEARS  ...  gray  no_color  red  silver\n",
              "0    0.0  2011  190552.0             3  ...     0         0    0       1\n",
              "1    0.0  2018   39590.0             2  ...     0         0    0       1\n",
              "2    1.0  2014   64146.0             2  ...     0         0    0       0\n",
              "3    1.0  2018    6654.0             3  ...     0         0    1       0\n",
              "4    0.0  2018   45561.0             1  ...     0         0    0       0\n",
              "\n",
              "[5 rows x 26 columns]"
            ]
          },
          "metadata": {
            "tags": []
          },
          "execution_count": 23
        }
      ]
    },
    {
      "cell_type": "code",
      "metadata": {
        "id": "no82fZ4Y9jVf",
        "colab_type": "code",
        "colab": {}
      },
      "source": [
        "X_train,X_test,y_train,y_test = tts(data.drop('price',axis = 1),data['price'],test_size = 0.2,random_state = 1)"
      ],
      "execution_count": 0,
      "outputs": []
    },
    {
      "cell_type": "code",
      "metadata": {
        "id": "CWKZZWms9jVh",
        "colab_type": "code",
        "colab": {}
      },
      "source": [
        "from sklearn.linear_model import LogisticRegression\n",
        "from sklearn.svm import SVC\n",
        "from sklearn.tree import DecisionTreeClassifier\n",
        "from sklearn.ensemble import RandomForestClassifier\n",
        "from sklearn.metrics import confusion_matrix"
      ],
      "execution_count": 0,
      "outputs": []
    },
    {
      "cell_type": "code",
      "metadata": {
        "id": "mWkYGoJZ9jVj",
        "colab_type": "code",
        "colab": {
          "base_uri": "https://localhost:8080/",
          "height": 191
        },
        "outputId": "67b3f28a-b004-4360-f8b6-69c715756231"
      },
      "source": [
        "# INITIALIZE Logistic Regression BY TAKING solver as 'lbfgs', max_iter as 2000, C as 0.5 and penalty as 'l2' and random_state as 1 \n",
        "# FIT Logistic Regression ON TRAINING DATA\n",
        "# WRITE CODE HERE AND FIND THE TPR, FPR, SENSTIVITY, SPECIFICITY, ACCURACY FOR LOGISTIC REGRESSION\n",
        "# USE THE IMPORTED CONFUSION MATRIX\n",
        "\n",
        "# START CODE\n",
        "logisticRegr = LogisticRegression(penalty='l2', C=0.5, random_state=1, solver='lbfgs', max_iter=2000)\n",
        "logisticRegr.fit(X_train, y_train)\n",
        "\n",
        "#training\n",
        "predictions = logisticRegr.predict(X_train)\n",
        "cm = confusion_matrix(y_train, predictions)\n",
        "print(cm)\n",
        "TP, TN = cm[1,1], cm[0,0]\n",
        "FP, FN = cm[0,1], cm[1,0]\n",
        "\n",
        "print('TPR for train data', TP/(TP+FN))\n",
        "\n",
        "#testing\n",
        "predictions = logisticRegr.predict(X_test)\n",
        "cm = confusion_matrix(y_test, predictions)\n",
        "print(cm)\n",
        "TP, TN = cm[1,1], cm[0,0]\n",
        "FP, FN = cm[0,1], cm[1,0]\n",
        "\n",
        "print('Accuracy', (TP+TN)/(TP+TN+FP+FN))\n",
        "print('Sensititvity or TPR', TP/(FN+TP))\n",
        "print('Specificity or TNR', TN/(TN+FP))\n",
        "print('Classification Error', (FP+FN)/(TP+TN+FP+FN))\n",
        "print('False positive rate', FP/(TN+FP))"
      ],
      "execution_count": 39,
      "outputs": [
        {
          "output_type": "stream",
          "text": [
            "[[782 231]\n",
            " [248 461]]\n",
            "TPR for train data 0.6502115655853314\n",
            "[[188  55]\n",
            " [ 65 123]]\n",
            "Accuracy 0.7215777262180975\n",
            "Sensititvity or TPR 0.6542553191489362\n",
            "Specificity or TNR 0.7736625514403292\n",
            "Classification Error 0.27842227378190254\n",
            "False positive rate 0.22633744855967078\n"
          ],
          "name": "stdout"
        }
      ]
    },
    {
      "cell_type": "code",
      "metadata": {
        "id": "wGv7G_Q29jVl",
        "colab_type": "code",
        "colab": {
          "base_uri": "https://localhost:8080/",
          "height": 191
        },
        "outputId": "d75fffe1-81b6-4776-e244-8dce0534ddfd"
      },
      "source": [
        "# INITIALIZE SVM BY TAKING kernal as 'rbf', max_iter as 1000 and random_state as 1 and gamma as scale\n",
        "# FIT SVM ON TRAINING DATA\n",
        "# WRITE CODE HERE AND FIND THE TPR, FPR, SENSTIVITY, SPECIFICITY, ACCURACY FOR SVM\n",
        "# USE THE IMPORTED CONFUSION MATRIX\n",
        "\n",
        "# START CODE\n",
        "svcmodel = SVC(kernel='rbf', gamma='scale', max_iter=1000, random_state=1)\n",
        "svcmodel.fit(X_train,y_train)\n",
        "\n",
        "#training data\n",
        "y_predd = svcmodel.predict(X_train) \n",
        "cm = confusion_matrix(y_train,y_predd) \n",
        "TP, TN = cm[1,1], cm[0,0]\n",
        "FP, FN = cm[0,1], cm[1,0]\n",
        "print('Accuracy', (TP+TN)/(TP+TN+FP+FN))\n",
        "print('Sensititvity or TPR', TP/(FN+TP))\n",
        "print('Specificity or TNR', TN/(TN+FP))\n",
        "print('Classification Error', (FP+FN)/(TP+TN+FP+FN))\n",
        "print('False positive rate', FP/(TN+FP))\n",
        "\n",
        "#testing data\n",
        "y_predd = svcmodel.predict(X_test) \n",
        "cm = confusion_matrix(y_test,y_predd) \n",
        "TP, TN = cm[1,1], cm[0,0]\n",
        "FP, FN = cm[0,1], cm[1,0]\n",
        "print('Accuracy', (TP+TN)/(TP+TN+FP+FN))\n",
        "print('Sensititvity or TPR', TP/(FN+TP))\n",
        "print('Specificity or TNR', TN/(TN+FP))\n",
        "print('Classification Error', (FP+FN)/(TP+TN+FP+FN))\n",
        "print('False positive rate', FP/(TN+FP))\n",
        "# END CODE\n"
      ],
      "execution_count": 40,
      "outputs": [
        {
          "output_type": "stream",
          "text": [
            "Accuracy 0.7090592334494773\n",
            "Sensititvity or TPR 0.5063469675599436\n",
            "Specificity or TNR 0.8509378084896347\n",
            "Classification Error 0.29094076655052264\n",
            "False positive rate 0.14906219151036526\n",
            "Accuracy 0.7192575406032483\n",
            "Sensititvity or TPR 0.5372340425531915\n",
            "Specificity or TNR 0.8600823045267489\n",
            "Classification Error 0.28074245939675174\n",
            "False positive rate 0.13991769547325103\n"
          ],
          "name": "stdout"
        }
      ]
    },
    {
      "cell_type": "code",
      "metadata": {
        "id": "y8OSZT7q9jVn",
        "colab_type": "code",
        "colab": {
          "base_uri": "https://localhost:8080/",
          "height": 191
        },
        "outputId": "ca2c0686-7681-49c8-a9b0-4fe8183a667f"
      },
      "source": [
        "\n",
        "# INITIALIZE DECISION TREE CLASSIFIER BY TAKING criterion as 'gini' , max_depth as 3, and random_state as 1\n",
        "# FIT Decision Tree ON TRAINING DATA\n",
        "# WRITE CODE HERE AND FIND THE TPR, FPR, SENSTIVITY, SPECIFICITY, ACCURACY FOR Decision Tree\n",
        "# USE THE IMPORTED CONFUSION MATRIX\n",
        "\n",
        "# START CODE\n",
        "dtcmodel = DecisionTreeClassifier(criterion='gini', max_depth=3, random_state=1)\n",
        "dtcmodel.fit(X_train,y_train)\n",
        "\n",
        "#training data\n",
        "y_pred = dtcmodel.predict(X_train) \n",
        "cm = confusion_matrix(y_train,y_pred)\n",
        "TP, TN = cm[1,1], cm[0,0]\n",
        "FP, FN = cm[0,1], cm[1,0]\n",
        "print('Accuracy', (TP+TN)/(TP+TN+FP+FN))\n",
        "print('Sensititvity or TPR', TP/(FN+TP))\n",
        "print('Specificity or TNR', TN/(TN+FP))\n",
        "print('Classification Error', (FP+FN)/(TP+TN+FP+FN))\n",
        "print('False positive rate', FP/(TN+FP))\n",
        "\n",
        "#testing data\n",
        "y_pred = dtcmodel.predict(X_test) \n",
        "cm = confusion_matrix(y_test,y_pred) \n",
        "TP, TN = cm[1,1], cm[0,0]\n",
        "FP, FN = cm[0,1], cm[1,0]\n",
        "print('Accuracy', (TP+TN)/(TP+TN+FP+FN))\n",
        "print('Sensititvity or TPR', TP/(FN+TP))\n",
        "print('Specificity or TNR', TN/(TN+FP))\n",
        "print('Classification Error', (FP+FN)/(TP+TN+FP+FN))\n",
        "print('False positive rate', FP/(TN+FP)) \n",
        "\n",
        "# END CODE"
      ],
      "execution_count": 41,
      "outputs": [
        {
          "output_type": "stream",
          "text": [
            "Accuracy 0.7398373983739838\n",
            "Sensititvity or TPR 0.5430183356840621\n",
            "Specificity or TNR 0.8775913129318855\n",
            "Classification Error 0.2601626016260163\n",
            "False positive rate 0.12240868706811452\n",
            "Accuracy 0.7447795823665894\n",
            "Sensititvity or TPR 0.5638297872340425\n",
            "Specificity or TNR 0.8847736625514403\n",
            "Classification Error 0.2552204176334107\n",
            "False positive rate 0.11522633744855967\n"
          ],
          "name": "stdout"
        }
      ]
    },
    {
      "cell_type": "code",
      "metadata": {
        "id": "HZRx_Rez9jVq",
        "colab_type": "code",
        "colab": {
          "base_uri": "https://localhost:8080/",
          "height": 191
        },
        "outputId": "642a9813-d9d9-49fb-d20f-7b4119744718"
      },
      "source": [
        "# INITIALIZE RANDOM FOREST CLASSIFIER BY TAKING no:of trees as 100 , max_depth as 3,criterion as 'gini' and random_state as 1 \n",
        "# FIT RANDOM FOREST ON TRAINING DATA\n",
        "# WRITE CODE HERE AND FIND THE TPR, FPR, SENSTIVITY, SPECIFICITY, ACCURACY FOR Random Forest\n",
        "# USE THE IMPORTED CONFUSION MATRIX\n",
        "\n",
        "# START CODE\n",
        "rfcmodel=RandomForestClassifier(n_estimators=100, criterion='gini', max_depth=3, random_state=1)\n",
        "rfcmodel.fit(X_train,y_train)\n",
        "\n",
        "#training data\n",
        "y_pred = rfcmodel.predict(X_train) \n",
        "cm = confusion_matrix(y_train,y_pred)\n",
        "TP, TN = cm[1,1], cm[0,0]\n",
        "FP, FN = cm[0,1], cm[1,0]\n",
        "print('Accuracy', (TP+TN)/(TP+TN+FP+FN))\n",
        "print('Sensititvity or TPR', TP/(FN+TP))\n",
        "print('Specificity or TNR', TN/(TN+FP))\n",
        "print('Classification Error', (FP+FN)/(TP+TN+FP+FN))\n",
        "print('False positive rate', FP/(TN+FP))\n",
        "\n",
        "#testing data\n",
        "y_pred = rfcmodel.predict(X_test) \n",
        "cm = confusion_matrix(y_test,y_pred) \n",
        "TP, TN = cm[1,1], cm[0,0]\n",
        "FP, FN = cm[0,1], cm[1,0]\n",
        "print('Accuracy', (TP+TN)/(TP+TN+FP+FN))\n",
        "print('Sensititvity or TPR', TP/(FN+TP))\n",
        "print('Specificity or TNR', TN/(TN+FP))\n",
        "print('Classification Error', (FP+FN)/(TP+TN+FP+FN))\n",
        "print('False positive rate', FP/(TN+FP)) \n",
        "# END CODE"
      ],
      "execution_count": 43,
      "outputs": [
        {
          "output_type": "stream",
          "text": [
            "Accuracy 0.7415795586527294\n",
            "Sensititvity or TPR 0.5444287729196051\n",
            "Specificity or TNR 0.8795656465942744\n",
            "Classification Error 0.2584204413472706\n",
            "False positive rate 0.12043435340572557\n",
            "Accuracy 0.7424593967517401\n",
            "Sensititvity or TPR 0.5638297872340425\n",
            "Specificity or TNR 0.8806584362139918\n",
            "Classification Error 0.25754060324825984\n",
            "False positive rate 0.11934156378600823\n"
          ],
          "name": "stdout"
        }
      ]
    }
  ]
}