{
  "nbformat": 4,
  "nbformat_minor": 0,
  "metadata": {
    "colab": {
      "name": "week2.ipynb",
      "provenance": []
    },
    "kernelspec": {
      "name": "python3",
      "display_name": "Python 3"
    }
  },
  "cells": [
    {
      "cell_type": "code",
      "metadata": {
        "id": "yUbzlNwj9q3l",
        "colab_type": "code",
        "colab": {}
      },
      "source": [
        "import pandas as pd\n",
        "import numpy as np\n",
        "import matplotlib.pyplot as plt\n",
        "import dateutil"
      ],
      "execution_count": 0,
      "outputs": []
    },
    {
      "cell_type": "code",
      "metadata": {
        "id": "8Og_DwrV9x98",
        "colab_type": "code",
        "colab": {
          "base_uri": "https://localhost:8080/",
          "height": 418
        },
        "outputId": "6d6d7b0a-2bcb-406f-d879-d898af50c3f5"
      },
      "source": [
        "df = pd.read_csv('Copy of Chicago_Crime_Detective.csv')\n",
        "df.head(10)"
      ],
      "execution_count": 3,
      "outputs": [
        {
          "output_type": "stream",
          "text": [
            "/usr/local/lib/python3.6/dist-packages/IPython/core/interactiveshell.py:2718: DtypeWarning: Columns (7,8) have mixed types.Specify dtype option on import or set low_memory=False.\n",
            "  interactivity=interactivity, compiler=compiler, result=result)\n"
          ],
          "name": "stderr"
        },
        {
          "output_type": "execute_result",
          "data": {
            "text/html": [
              "<div>\n",
              "<style scoped>\n",
              "    .dataframe tbody tr th:only-of-type {\n",
              "        vertical-align: middle;\n",
              "    }\n",
              "\n",
              "    .dataframe tbody tr th {\n",
              "        vertical-align: top;\n",
              "    }\n",
              "\n",
              "    .dataframe thead th {\n",
              "        text-align: right;\n",
              "    }\n",
              "</style>\n",
              "<table border=\"1\" class=\"dataframe\">\n",
              "  <thead>\n",
              "    <tr style=\"text-align: right;\">\n",
              "      <th></th>\n",
              "      <th>Unnamed: 0</th>\n",
              "      <th>ID</th>\n",
              "      <th>Date</th>\n",
              "      <th>LocationDescription</th>\n",
              "      <th>Arrest</th>\n",
              "      <th>Domestic</th>\n",
              "      <th>Beat</th>\n",
              "      <th>District</th>\n",
              "      <th>CommunityArea</th>\n",
              "      <th>Year</th>\n",
              "    </tr>\n",
              "  </thead>\n",
              "  <tbody>\n",
              "    <tr>\n",
              "      <th>0</th>\n",
              "      <td>0</td>\n",
              "      <td>8951354</td>\n",
              "      <td>12/31/12 23:15</td>\n",
              "      <td>STREET</td>\n",
              "      <td>False</td>\n",
              "      <td>False</td>\n",
              "      <td>623</td>\n",
              "      <td>6</td>\n",
              "      <td>69</td>\n",
              "      <td>2012</td>\n",
              "    </tr>\n",
              "    <tr>\n",
              "      <th>1</th>\n",
              "      <td>1</td>\n",
              "      <td>8951141</td>\n",
              "      <td>12/31/12 22:00</td>\n",
              "      <td>STREET</td>\n",
              "      <td>False</td>\n",
              "      <td>False</td>\n",
              "      <td>1213</td>\n",
              "      <td>12</td>\n",
              "      <td>24</td>\n",
              "      <td>2012</td>\n",
              "    </tr>\n",
              "    <tr>\n",
              "      <th>2</th>\n",
              "      <td>2</td>\n",
              "      <td>8952745</td>\n",
              "      <td>12/31/12 22:00</td>\n",
              "      <td>RESIDENTIAL YARD (FRONT/BACK)</td>\n",
              "      <td>False</td>\n",
              "      <td>False</td>\n",
              "      <td>1622</td>\n",
              "      <td>16</td>\n",
              "      <td>11</td>\n",
              "      <td>2012</td>\n",
              "    </tr>\n",
              "    <tr>\n",
              "      <th>3</th>\n",
              "      <td>3</td>\n",
              "      <td>8952223</td>\n",
              "      <td>12/31/12 22:00</td>\n",
              "      <td>STREET</td>\n",
              "      <td>False</td>\n",
              "      <td>False</td>\n",
              "      <td>724</td>\n",
              "      <td>7</td>\n",
              "      <td>67</td>\n",
              "      <td>2012</td>\n",
              "    </tr>\n",
              "    <tr>\n",
              "      <th>4</th>\n",
              "      <td>4</td>\n",
              "      <td>8951608</td>\n",
              "      <td>12/31/12 21:30</td>\n",
              "      <td>STREET</td>\n",
              "      <td>False</td>\n",
              "      <td>False</td>\n",
              "      <td>211</td>\n",
              "      <td>2</td>\n",
              "      <td>35</td>\n",
              "      <td>2012</td>\n",
              "    </tr>\n",
              "    <tr>\n",
              "      <th>5</th>\n",
              "      <td>5</td>\n",
              "      <td>8950793</td>\n",
              "      <td>12/31/12 20:30</td>\n",
              "      <td>STREET</td>\n",
              "      <td>True</td>\n",
              "      <td>False</td>\n",
              "      <td>2521</td>\n",
              "      <td>25</td>\n",
              "      <td>19</td>\n",
              "      <td>2012</td>\n",
              "    </tr>\n",
              "    <tr>\n",
              "      <th>6</th>\n",
              "      <td>6</td>\n",
              "      <td>8950760</td>\n",
              "      <td>12/31/12 20:10</td>\n",
              "      <td>STREET</td>\n",
              "      <td>False</td>\n",
              "      <td>False</td>\n",
              "      <td>423</td>\n",
              "      <td>4</td>\n",
              "      <td>48</td>\n",
              "      <td>2012</td>\n",
              "    </tr>\n",
              "    <tr>\n",
              "      <th>7</th>\n",
              "      <td>7</td>\n",
              "      <td>8951611</td>\n",
              "      <td>12/31/12 20:00</td>\n",
              "      <td>STREET</td>\n",
              "      <td>False</td>\n",
              "      <td>False</td>\n",
              "      <td>231</td>\n",
              "      <td>2</td>\n",
              "      <td>40</td>\n",
              "      <td>2012</td>\n",
              "    </tr>\n",
              "    <tr>\n",
              "      <th>8</th>\n",
              "      <td>8</td>\n",
              "      <td>8951802</td>\n",
              "      <td>12/31/12 19:00</td>\n",
              "      <td>STREET</td>\n",
              "      <td>True</td>\n",
              "      <td>False</td>\n",
              "      <td>1021</td>\n",
              "      <td>10</td>\n",
              "      <td>29</td>\n",
              "      <td>2012</td>\n",
              "    </tr>\n",
              "    <tr>\n",
              "      <th>9</th>\n",
              "      <td>9</td>\n",
              "      <td>8950706</td>\n",
              "      <td>12/31/12 18:00</td>\n",
              "      <td>STREET</td>\n",
              "      <td>False</td>\n",
              "      <td>False</td>\n",
              "      <td>1215</td>\n",
              "      <td>12</td>\n",
              "      <td>24</td>\n",
              "      <td>2012</td>\n",
              "    </tr>\n",
              "  </tbody>\n",
              "</table>\n",
              "</div>"
            ],
            "text/plain": [
              "   Unnamed: 0       ID            Date  ... District  CommunityArea  Year\n",
              "0           0  8951354  12/31/12 23:15  ...        6             69  2012\n",
              "1           1  8951141  12/31/12 22:00  ...       12             24  2012\n",
              "2           2  8952745  12/31/12 22:00  ...       16             11  2012\n",
              "3           3  8952223  12/31/12 22:00  ...        7             67  2012\n",
              "4           4  8951608  12/31/12 21:30  ...        2             35  2012\n",
              "5           5  8950793  12/31/12 20:30  ...       25             19  2012\n",
              "6           6  8950760  12/31/12 20:10  ...        4             48  2012\n",
              "7           7  8951611  12/31/12 20:00  ...        2             40  2012\n",
              "8           8  8951802  12/31/12 19:00  ...       10             29  2012\n",
              "9           9  8950706  12/31/12 18:00  ...       12             24  2012\n",
              "\n",
              "[10 rows x 10 columns]"
            ]
          },
          "metadata": {
            "tags": []
          },
          "execution_count": 3
        }
      ]
    },
    {
      "cell_type": "code",
      "metadata": {
        "id": "DMQ9PMRbAYPG",
        "colab_type": "code",
        "colab": {
          "base_uri": "https://localhost:8080/",
          "height": 206
        },
        "outputId": "6211d7b8-9091-4390-85a8-644be912dd2d"
      },
      "source": [
        "df.tail()"
      ],
      "execution_count": 4,
      "outputs": [
        {
          "output_type": "execute_result",
          "data": {
            "text/html": [
              "<div>\n",
              "<style scoped>\n",
              "    .dataframe tbody tr th:only-of-type {\n",
              "        vertical-align: middle;\n",
              "    }\n",
              "\n",
              "    .dataframe tbody tr th {\n",
              "        vertical-align: top;\n",
              "    }\n",
              "\n",
              "    .dataframe thead th {\n",
              "        text-align: right;\n",
              "    }\n",
              "</style>\n",
              "<table border=\"1\" class=\"dataframe\">\n",
              "  <thead>\n",
              "    <tr style=\"text-align: right;\">\n",
              "      <th></th>\n",
              "      <th>Unnamed: 0</th>\n",
              "      <th>ID</th>\n",
              "      <th>Date</th>\n",
              "      <th>LocationDescription</th>\n",
              "      <th>Arrest</th>\n",
              "      <th>Domestic</th>\n",
              "      <th>Beat</th>\n",
              "      <th>District</th>\n",
              "      <th>CommunityArea</th>\n",
              "      <th>Year</th>\n",
              "    </tr>\n",
              "  </thead>\n",
              "  <tbody>\n",
              "    <tr>\n",
              "      <th>191636</th>\n",
              "      <td>191636</td>\n",
              "      <td>1310068</td>\n",
              "      <td>1/1/01 0:05</td>\n",
              "      <td>STREET</td>\n",
              "      <td>False</td>\n",
              "      <td>False</td>\n",
              "      <td>1123</td>\n",
              "      <td>NaN</td>\n",
              "      <td>NaN</td>\n",
              "      <td>2001</td>\n",
              "    </tr>\n",
              "    <tr>\n",
              "      <th>191637</th>\n",
              "      <td>191637</td>\n",
              "      <td>1313404</td>\n",
              "      <td>1/1/01 0:01</td>\n",
              "      <td>STREET</td>\n",
              "      <td>False</td>\n",
              "      <td>False</td>\n",
              "      <td>2023</td>\n",
              "      <td>NaN</td>\n",
              "      <td>NaN</td>\n",
              "      <td>2001</td>\n",
              "    </tr>\n",
              "    <tr>\n",
              "      <th>191638</th>\n",
              "      <td>191638</td>\n",
              "      <td>1313442</td>\n",
              "      <td>1/1/01 0:01</td>\n",
              "      <td>STREET</td>\n",
              "      <td>False</td>\n",
              "      <td>False</td>\n",
              "      <td>911</td>\n",
              "      <td>NaN</td>\n",
              "      <td>NaN</td>\n",
              "      <td>2001</td>\n",
              "    </tr>\n",
              "    <tr>\n",
              "      <th>191639</th>\n",
              "      <td>191639</td>\n",
              "      <td>1563324</td>\n",
              "      <td>1/1/01 0:01</td>\n",
              "      <td>STREET</td>\n",
              "      <td>False</td>\n",
              "      <td>False</td>\n",
              "      <td>1712</td>\n",
              "      <td>NaN</td>\n",
              "      <td>NaN</td>\n",
              "      <td>2001</td>\n",
              "    </tr>\n",
              "    <tr>\n",
              "      <th>191640</th>\n",
              "      <td>191640</td>\n",
              "      <td>1310463</td>\n",
              "      <td>1/1/01 0:01</td>\n",
              "      <td>STREET</td>\n",
              "      <td>False</td>\n",
              "      <td>False</td>\n",
              "      <td>1911</td>\n",
              "      <td>NaN</td>\n",
              "      <td>NaN</td>\n",
              "      <td>2001</td>\n",
              "    </tr>\n",
              "  </tbody>\n",
              "</table>\n",
              "</div>"
            ],
            "text/plain": [
              "        Unnamed: 0       ID         Date  ... District  CommunityArea  Year\n",
              "191636      191636  1310068  1/1/01 0:05  ...      NaN            NaN  2001\n",
              "191637      191637  1313404  1/1/01 0:01  ...      NaN            NaN  2001\n",
              "191638      191638  1313442  1/1/01 0:01  ...      NaN            NaN  2001\n",
              "191639      191639  1563324  1/1/01 0:01  ...      NaN            NaN  2001\n",
              "191640      191640  1310463  1/1/01 0:01  ...      NaN            NaN  2001\n",
              "\n",
              "[5 rows x 10 columns]"
            ]
          },
          "metadata": {
            "tags": []
          },
          "execution_count": 4
        }
      ]
    },
    {
      "cell_type": "code",
      "metadata": {
        "id": "Q14WiuonAuZR",
        "colab_type": "code",
        "colab": {
          "base_uri": "https://localhost:8080/",
          "height": 69
        },
        "outputId": "3d78556e-83b5-4776-e820-aee8123c2010"
      },
      "source": [
        "df.columns"
      ],
      "execution_count": 5,
      "outputs": [
        {
          "output_type": "execute_result",
          "data": {
            "text/plain": [
              "Index(['Unnamed: 0', 'ID', 'Date', 'LocationDescription', 'Arrest', 'Domestic',\n",
              "       'Beat', 'District', 'CommunityArea', 'Year'],\n",
              "      dtype='object')"
            ]
          },
          "metadata": {
            "tags": []
          },
          "execution_count": 5
        }
      ]
    },
    {
      "cell_type": "code",
      "metadata": {
        "id": "zx_K-m2yAzt3",
        "colab_type": "code",
        "colab": {}
      },
      "source": [
        "df.drop(df.columns[0], axis=1, inplace=True)"
      ],
      "execution_count": 0,
      "outputs": []
    },
    {
      "cell_type": "code",
      "metadata": {
        "id": "u_fllkElBymd",
        "colab_type": "code",
        "colab": {
          "base_uri": "https://localhost:8080/",
          "height": 206
        },
        "outputId": "e9c31e1c-df9e-4820-ff73-ea895ecbd335"
      },
      "source": [
        "df.head()"
      ],
      "execution_count": 7,
      "outputs": [
        {
          "output_type": "execute_result",
          "data": {
            "text/html": [
              "<div>\n",
              "<style scoped>\n",
              "    .dataframe tbody tr th:only-of-type {\n",
              "        vertical-align: middle;\n",
              "    }\n",
              "\n",
              "    .dataframe tbody tr th {\n",
              "        vertical-align: top;\n",
              "    }\n",
              "\n",
              "    .dataframe thead th {\n",
              "        text-align: right;\n",
              "    }\n",
              "</style>\n",
              "<table border=\"1\" class=\"dataframe\">\n",
              "  <thead>\n",
              "    <tr style=\"text-align: right;\">\n",
              "      <th></th>\n",
              "      <th>ID</th>\n",
              "      <th>Date</th>\n",
              "      <th>LocationDescription</th>\n",
              "      <th>Arrest</th>\n",
              "      <th>Domestic</th>\n",
              "      <th>Beat</th>\n",
              "      <th>District</th>\n",
              "      <th>CommunityArea</th>\n",
              "      <th>Year</th>\n",
              "    </tr>\n",
              "  </thead>\n",
              "  <tbody>\n",
              "    <tr>\n",
              "      <th>0</th>\n",
              "      <td>8951354</td>\n",
              "      <td>12/31/12 23:15</td>\n",
              "      <td>STREET</td>\n",
              "      <td>False</td>\n",
              "      <td>False</td>\n",
              "      <td>623</td>\n",
              "      <td>6</td>\n",
              "      <td>69</td>\n",
              "      <td>2012</td>\n",
              "    </tr>\n",
              "    <tr>\n",
              "      <th>1</th>\n",
              "      <td>8951141</td>\n",
              "      <td>12/31/12 22:00</td>\n",
              "      <td>STREET</td>\n",
              "      <td>False</td>\n",
              "      <td>False</td>\n",
              "      <td>1213</td>\n",
              "      <td>12</td>\n",
              "      <td>24</td>\n",
              "      <td>2012</td>\n",
              "    </tr>\n",
              "    <tr>\n",
              "      <th>2</th>\n",
              "      <td>8952745</td>\n",
              "      <td>12/31/12 22:00</td>\n",
              "      <td>RESIDENTIAL YARD (FRONT/BACK)</td>\n",
              "      <td>False</td>\n",
              "      <td>False</td>\n",
              "      <td>1622</td>\n",
              "      <td>16</td>\n",
              "      <td>11</td>\n",
              "      <td>2012</td>\n",
              "    </tr>\n",
              "    <tr>\n",
              "      <th>3</th>\n",
              "      <td>8952223</td>\n",
              "      <td>12/31/12 22:00</td>\n",
              "      <td>STREET</td>\n",
              "      <td>False</td>\n",
              "      <td>False</td>\n",
              "      <td>724</td>\n",
              "      <td>7</td>\n",
              "      <td>67</td>\n",
              "      <td>2012</td>\n",
              "    </tr>\n",
              "    <tr>\n",
              "      <th>4</th>\n",
              "      <td>8951608</td>\n",
              "      <td>12/31/12 21:30</td>\n",
              "      <td>STREET</td>\n",
              "      <td>False</td>\n",
              "      <td>False</td>\n",
              "      <td>211</td>\n",
              "      <td>2</td>\n",
              "      <td>35</td>\n",
              "      <td>2012</td>\n",
              "    </tr>\n",
              "  </tbody>\n",
              "</table>\n",
              "</div>"
            ],
            "text/plain": [
              "        ID            Date  ... CommunityArea  Year\n",
              "0  8951354  12/31/12 23:15  ...            69  2012\n",
              "1  8951141  12/31/12 22:00  ...            24  2012\n",
              "2  8952745  12/31/12 22:00  ...            11  2012\n",
              "3  8952223  12/31/12 22:00  ...            67  2012\n",
              "4  8951608  12/31/12 21:30  ...            35  2012\n",
              "\n",
              "[5 rows x 9 columns]"
            ]
          },
          "metadata": {
            "tags": []
          },
          "execution_count": 7
        }
      ]
    },
    {
      "cell_type": "code",
      "metadata": {
        "id": "brZJCgV_CLfs",
        "colab_type": "code",
        "colab": {
          "base_uri": "https://localhost:8080/",
          "height": 300
        },
        "outputId": "8d14f82f-1114-4afc-d397-4e59dfa00644"
      },
      "source": [
        "df.describe()"
      ],
      "execution_count": 8,
      "outputs": [
        {
          "output_type": "execute_result",
          "data": {
            "text/html": [
              "<div>\n",
              "<style scoped>\n",
              "    .dataframe tbody tr th:only-of-type {\n",
              "        vertical-align: middle;\n",
              "    }\n",
              "\n",
              "    .dataframe tbody tr th {\n",
              "        vertical-align: top;\n",
              "    }\n",
              "\n",
              "    .dataframe thead th {\n",
              "        text-align: right;\n",
              "    }\n",
              "</style>\n",
              "<table border=\"1\" class=\"dataframe\">\n",
              "  <thead>\n",
              "    <tr style=\"text-align: right;\">\n",
              "      <th></th>\n",
              "      <th>ID</th>\n",
              "      <th>Beat</th>\n",
              "      <th>Year</th>\n",
              "    </tr>\n",
              "  </thead>\n",
              "  <tbody>\n",
              "    <tr>\n",
              "      <th>count</th>\n",
              "      <td>1.916410e+05</td>\n",
              "      <td>191641.000000</td>\n",
              "      <td>191641.000000</td>\n",
              "    </tr>\n",
              "    <tr>\n",
              "      <th>mean</th>\n",
              "      <td>4.968629e+06</td>\n",
              "      <td>1258.810771</td>\n",
              "      <td>2006.134940</td>\n",
              "    </tr>\n",
              "    <tr>\n",
              "      <th>std</th>\n",
              "      <td>2.342997e+06</td>\n",
              "      <td>702.530465</td>\n",
              "      <td>3.520285</td>\n",
              "    </tr>\n",
              "    <tr>\n",
              "      <th>min</th>\n",
              "      <td>1.310022e+06</td>\n",
              "      <td>111.000000</td>\n",
              "      <td>2001.000000</td>\n",
              "    </tr>\n",
              "    <tr>\n",
              "      <th>25%</th>\n",
              "      <td>2.832144e+06</td>\n",
              "      <td>722.000000</td>\n",
              "      <td>2003.000000</td>\n",
              "    </tr>\n",
              "    <tr>\n",
              "      <th>50%</th>\n",
              "      <td>4.762956e+06</td>\n",
              "      <td>1121.000000</td>\n",
              "      <td>2006.000000</td>\n",
              "    </tr>\n",
              "    <tr>\n",
              "      <th>75%</th>\n",
              "      <td>7.201878e+06</td>\n",
              "      <td>1733.000000</td>\n",
              "      <td>2009.000000</td>\n",
              "    </tr>\n",
              "    <tr>\n",
              "      <th>max</th>\n",
              "      <td>9.181151e+06</td>\n",
              "      <td>2535.000000</td>\n",
              "      <td>2012.000000</td>\n",
              "    </tr>\n",
              "  </tbody>\n",
              "</table>\n",
              "</div>"
            ],
            "text/plain": [
              "                 ID           Beat           Year\n",
              "count  1.916410e+05  191641.000000  191641.000000\n",
              "mean   4.968629e+06    1258.810771    2006.134940\n",
              "std    2.342997e+06     702.530465       3.520285\n",
              "min    1.310022e+06     111.000000    2001.000000\n",
              "25%    2.832144e+06     722.000000    2003.000000\n",
              "50%    4.762956e+06    1121.000000    2006.000000\n",
              "75%    7.201878e+06    1733.000000    2009.000000\n",
              "max    9.181151e+06    2535.000000    2012.000000"
            ]
          },
          "metadata": {
            "tags": []
          },
          "execution_count": 8
        }
      ]
    },
    {
      "cell_type": "code",
      "metadata": {
        "id": "pFiM7txzDRAT",
        "colab_type": "code",
        "colab": {
          "base_uri": "https://localhost:8080/",
          "height": 191
        },
        "outputId": "3e12bdfd-3a91-483f-c18c-3f31c056176e"
      },
      "source": [
        "df.dtypes"
      ],
      "execution_count": 9,
      "outputs": [
        {
          "output_type": "execute_result",
          "data": {
            "text/plain": [
              "ID                      int64\n",
              "Date                   object\n",
              "LocationDescription    object\n",
              "Arrest                   bool\n",
              "Domestic                 bool\n",
              "Beat                    int64\n",
              "District               object\n",
              "CommunityArea          object\n",
              "Year                    int64\n",
              "dtype: object"
            ]
          },
          "metadata": {
            "tags": []
          },
          "execution_count": 9
        }
      ]
    },
    {
      "cell_type": "code",
      "metadata": {
        "id": "4hi7Y2myEC5h",
        "colab_type": "code",
        "colab": {}
      },
      "source": [
        "df['Date'] = df['Date'].apply(dateutil.parser.parse, dayfirst=True)"
      ],
      "execution_count": 0,
      "outputs": []
    },
    {
      "cell_type": "code",
      "metadata": {
        "id": "qwpvWhCREmo5",
        "colab_type": "code",
        "colab": {
          "base_uri": "https://localhost:8080/",
          "height": 191
        },
        "outputId": "2e87548d-ec7e-449c-8102-8cd004fa7498"
      },
      "source": [
        "df.dtypes"
      ],
      "execution_count": 12,
      "outputs": [
        {
          "output_type": "execute_result",
          "data": {
            "text/plain": [
              "ID                              int64\n",
              "Date                   datetime64[ns]\n",
              "LocationDescription            object\n",
              "Arrest                           bool\n",
              "Domestic                         bool\n",
              "Beat                            int64\n",
              "District                       object\n",
              "CommunityArea                  object\n",
              "Year                            int64\n",
              "dtype: object"
            ]
          },
          "metadata": {
            "tags": []
          },
          "execution_count": 12
        }
      ]
    },
    {
      "cell_type": "code",
      "metadata": {
        "id": "iltgtcqFG_D_",
        "colab_type": "code",
        "colab": {
          "base_uri": "https://localhost:8080/",
          "height": 139
        },
        "outputId": "94459a18-3ff7-4359-bb18-6182d823a83e"
      },
      "source": [
        "df.Date.describe()"
      ],
      "execution_count": 13,
      "outputs": [
        {
          "output_type": "execute_result",
          "data": {
            "text/plain": [
              "count                  191641\n",
              "unique                 131680\n",
              "top       2008-05-16 00:00:00\n",
              "freq                       11\n",
              "first     2001-01-01 00:01:00\n",
              "last      2012-12-31 23:15:00\n",
              "Name: Date, dtype: object"
            ]
          },
          "metadata": {
            "tags": []
          },
          "execution_count": 13
        }
      ]
    },
    {
      "cell_type": "code",
      "metadata": {
        "id": "x6a61wkDE3eI",
        "colab_type": "code",
        "colab": {
          "base_uri": "https://localhost:8080/",
          "height": 34
        },
        "outputId": "f2ceaf30-1441-4e63-c9ae-2f127a26f09b"
      },
      "source": [
        "dates = list(df['Date'])\n",
        "dates.sort()\n",
        "dates[len(dates)//2]"
      ],
      "execution_count": 14,
      "outputs": [
        {
          "output_type": "execute_result",
          "data": {
            "text/plain": [
              "Timestamp('2006-05-24 22:00:00')"
            ]
          },
          "metadata": {
            "tags": []
          },
          "execution_count": 14
        }
      ]
    },
    {
      "cell_type": "code",
      "metadata": {
        "id": "vF5wp888IVSd",
        "colab_type": "code",
        "colab": {}
      },
      "source": [
        "df['Month'] = pd.DatetimeIndex(df['Date']).month"
      ],
      "execution_count": 0,
      "outputs": []
    },
    {
      "cell_type": "code",
      "metadata": {
        "id": "emIk6RTeKZGO",
        "colab_type": "code",
        "colab": {
          "base_uri": "https://localhost:8080/",
          "height": 206
        },
        "outputId": "a0dc9a8f-c56b-4e44-a98c-2d55fdb52d87"
      },
      "source": [
        "df.head()"
      ],
      "execution_count": 16,
      "outputs": [
        {
          "output_type": "execute_result",
          "data": {
            "text/html": [
              "<div>\n",
              "<style scoped>\n",
              "    .dataframe tbody tr th:only-of-type {\n",
              "        vertical-align: middle;\n",
              "    }\n",
              "\n",
              "    .dataframe tbody tr th {\n",
              "        vertical-align: top;\n",
              "    }\n",
              "\n",
              "    .dataframe thead th {\n",
              "        text-align: right;\n",
              "    }\n",
              "</style>\n",
              "<table border=\"1\" class=\"dataframe\">\n",
              "  <thead>\n",
              "    <tr style=\"text-align: right;\">\n",
              "      <th></th>\n",
              "      <th>ID</th>\n",
              "      <th>Date</th>\n",
              "      <th>LocationDescription</th>\n",
              "      <th>Arrest</th>\n",
              "      <th>Domestic</th>\n",
              "      <th>Beat</th>\n",
              "      <th>District</th>\n",
              "      <th>CommunityArea</th>\n",
              "      <th>Year</th>\n",
              "      <th>Month</th>\n",
              "    </tr>\n",
              "  </thead>\n",
              "  <tbody>\n",
              "    <tr>\n",
              "      <th>0</th>\n",
              "      <td>8951354</td>\n",
              "      <td>2012-12-31 23:15:00</td>\n",
              "      <td>STREET</td>\n",
              "      <td>False</td>\n",
              "      <td>False</td>\n",
              "      <td>623</td>\n",
              "      <td>6</td>\n",
              "      <td>69</td>\n",
              "      <td>2012</td>\n",
              "      <td>12</td>\n",
              "    </tr>\n",
              "    <tr>\n",
              "      <th>1</th>\n",
              "      <td>8951141</td>\n",
              "      <td>2012-12-31 22:00:00</td>\n",
              "      <td>STREET</td>\n",
              "      <td>False</td>\n",
              "      <td>False</td>\n",
              "      <td>1213</td>\n",
              "      <td>12</td>\n",
              "      <td>24</td>\n",
              "      <td>2012</td>\n",
              "      <td>12</td>\n",
              "    </tr>\n",
              "    <tr>\n",
              "      <th>2</th>\n",
              "      <td>8952745</td>\n",
              "      <td>2012-12-31 22:00:00</td>\n",
              "      <td>RESIDENTIAL YARD (FRONT/BACK)</td>\n",
              "      <td>False</td>\n",
              "      <td>False</td>\n",
              "      <td>1622</td>\n",
              "      <td>16</td>\n",
              "      <td>11</td>\n",
              "      <td>2012</td>\n",
              "      <td>12</td>\n",
              "    </tr>\n",
              "    <tr>\n",
              "      <th>3</th>\n",
              "      <td>8952223</td>\n",
              "      <td>2012-12-31 22:00:00</td>\n",
              "      <td>STREET</td>\n",
              "      <td>False</td>\n",
              "      <td>False</td>\n",
              "      <td>724</td>\n",
              "      <td>7</td>\n",
              "      <td>67</td>\n",
              "      <td>2012</td>\n",
              "      <td>12</td>\n",
              "    </tr>\n",
              "    <tr>\n",
              "      <th>4</th>\n",
              "      <td>8951608</td>\n",
              "      <td>2012-12-31 21:30:00</td>\n",
              "      <td>STREET</td>\n",
              "      <td>False</td>\n",
              "      <td>False</td>\n",
              "      <td>211</td>\n",
              "      <td>2</td>\n",
              "      <td>35</td>\n",
              "      <td>2012</td>\n",
              "      <td>12</td>\n",
              "    </tr>\n",
              "  </tbody>\n",
              "</table>\n",
              "</div>"
            ],
            "text/plain": [
              "        ID                Date  ...  Year  Month\n",
              "0  8951354 2012-12-31 23:15:00  ...  2012     12\n",
              "1  8951141 2012-12-31 22:00:00  ...  2012     12\n",
              "2  8952745 2012-12-31 22:00:00  ...  2012     12\n",
              "3  8952223 2012-12-31 22:00:00  ...  2012     12\n",
              "4  8951608 2012-12-31 21:30:00  ...  2012     12\n",
              "\n",
              "[5 rows x 10 columns]"
            ]
          },
          "metadata": {
            "tags": []
          },
          "execution_count": 16
        }
      ]
    },
    {
      "cell_type": "code",
      "metadata": {
        "id": "lpkwyzQSK2Mh",
        "colab_type": "code",
        "colab": {
          "base_uri": "https://localhost:8080/",
          "height": 243
        },
        "outputId": "badc1240-e3bf-4df2-cc67-cb8d354a940d"
      },
      "source": [
        "df.Month.value_counts()"
      ],
      "execution_count": 17,
      "outputs": [
        {
          "output_type": "execute_result",
          "data": {
            "text/plain": [
              "10    16977\n",
              "7     16733\n",
              "12    16417\n",
              "1     16325\n",
              "5     16298\n",
              "8     16288\n",
              "9     16009\n",
              "3     15895\n",
              "6     15894\n",
              "11    15765\n",
              "4     15086\n",
              "2     13954\n",
              "Name: Month, dtype: int64"
            ]
          },
          "metadata": {
            "tags": []
          },
          "execution_count": 17
        }
      ]
    },
    {
      "cell_type": "code",
      "metadata": {
        "id": "bNZkl74eMT2W",
        "colab_type": "code",
        "colab": {
          "base_uri": "https://localhost:8080/",
          "height": 206
        },
        "outputId": "d9d71efe-b7b6-48b2-ec31-cacb582abe64"
      },
      "source": [
        "df['Weekday'] = df['Date'].dt.day_name()\n",
        "df.head()"
      ],
      "execution_count": 18,
      "outputs": [
        {
          "output_type": "execute_result",
          "data": {
            "text/html": [
              "<div>\n",
              "<style scoped>\n",
              "    .dataframe tbody tr th:only-of-type {\n",
              "        vertical-align: middle;\n",
              "    }\n",
              "\n",
              "    .dataframe tbody tr th {\n",
              "        vertical-align: top;\n",
              "    }\n",
              "\n",
              "    .dataframe thead th {\n",
              "        text-align: right;\n",
              "    }\n",
              "</style>\n",
              "<table border=\"1\" class=\"dataframe\">\n",
              "  <thead>\n",
              "    <tr style=\"text-align: right;\">\n",
              "      <th></th>\n",
              "      <th>ID</th>\n",
              "      <th>Date</th>\n",
              "      <th>LocationDescription</th>\n",
              "      <th>Arrest</th>\n",
              "      <th>Domestic</th>\n",
              "      <th>Beat</th>\n",
              "      <th>District</th>\n",
              "      <th>CommunityArea</th>\n",
              "      <th>Year</th>\n",
              "      <th>Month</th>\n",
              "      <th>Weekday</th>\n",
              "    </tr>\n",
              "  </thead>\n",
              "  <tbody>\n",
              "    <tr>\n",
              "      <th>0</th>\n",
              "      <td>8951354</td>\n",
              "      <td>2012-12-31 23:15:00</td>\n",
              "      <td>STREET</td>\n",
              "      <td>False</td>\n",
              "      <td>False</td>\n",
              "      <td>623</td>\n",
              "      <td>6</td>\n",
              "      <td>69</td>\n",
              "      <td>2012</td>\n",
              "      <td>12</td>\n",
              "      <td>Monday</td>\n",
              "    </tr>\n",
              "    <tr>\n",
              "      <th>1</th>\n",
              "      <td>8951141</td>\n",
              "      <td>2012-12-31 22:00:00</td>\n",
              "      <td>STREET</td>\n",
              "      <td>False</td>\n",
              "      <td>False</td>\n",
              "      <td>1213</td>\n",
              "      <td>12</td>\n",
              "      <td>24</td>\n",
              "      <td>2012</td>\n",
              "      <td>12</td>\n",
              "      <td>Monday</td>\n",
              "    </tr>\n",
              "    <tr>\n",
              "      <th>2</th>\n",
              "      <td>8952745</td>\n",
              "      <td>2012-12-31 22:00:00</td>\n",
              "      <td>RESIDENTIAL YARD (FRONT/BACK)</td>\n",
              "      <td>False</td>\n",
              "      <td>False</td>\n",
              "      <td>1622</td>\n",
              "      <td>16</td>\n",
              "      <td>11</td>\n",
              "      <td>2012</td>\n",
              "      <td>12</td>\n",
              "      <td>Monday</td>\n",
              "    </tr>\n",
              "    <tr>\n",
              "      <th>3</th>\n",
              "      <td>8952223</td>\n",
              "      <td>2012-12-31 22:00:00</td>\n",
              "      <td>STREET</td>\n",
              "      <td>False</td>\n",
              "      <td>False</td>\n",
              "      <td>724</td>\n",
              "      <td>7</td>\n",
              "      <td>67</td>\n",
              "      <td>2012</td>\n",
              "      <td>12</td>\n",
              "      <td>Monday</td>\n",
              "    </tr>\n",
              "    <tr>\n",
              "      <th>4</th>\n",
              "      <td>8951608</td>\n",
              "      <td>2012-12-31 21:30:00</td>\n",
              "      <td>STREET</td>\n",
              "      <td>False</td>\n",
              "      <td>False</td>\n",
              "      <td>211</td>\n",
              "      <td>2</td>\n",
              "      <td>35</td>\n",
              "      <td>2012</td>\n",
              "      <td>12</td>\n",
              "      <td>Monday</td>\n",
              "    </tr>\n",
              "  </tbody>\n",
              "</table>\n",
              "</div>"
            ],
            "text/plain": [
              "        ID                Date  ... Month  Weekday\n",
              "0  8951354 2012-12-31 23:15:00  ...    12   Monday\n",
              "1  8951141 2012-12-31 22:00:00  ...    12   Monday\n",
              "2  8952745 2012-12-31 22:00:00  ...    12   Monday\n",
              "3  8952223 2012-12-31 22:00:00  ...    12   Monday\n",
              "4  8951608 2012-12-31 21:30:00  ...    12   Monday\n",
              "\n",
              "[5 rows x 11 columns]"
            ]
          },
          "metadata": {
            "tags": []
          },
          "execution_count": 18
        }
      ]
    },
    {
      "cell_type": "code",
      "metadata": {
        "id": "JQmyMELKMqTd",
        "colab_type": "code",
        "colab": {
          "base_uri": "https://localhost:8080/",
          "height": 156
        },
        "outputId": "5924ea55-779e-4c8b-9c1b-e3097f8286ee"
      },
      "source": [
        "df['Weekday'].value_counts()"
      ],
      "execution_count": 19,
      "outputs": [
        {
          "output_type": "execute_result",
          "data": {
            "text/plain": [
              "Friday       28545\n",
              "Saturday     27406\n",
              "Wednesday    27387\n",
              "Monday       27372\n",
              "Tuesday      27141\n",
              "Thursday     27067\n",
              "Sunday       26723\n",
              "Name: Weekday, dtype: int64"
            ]
          },
          "metadata": {
            "tags": []
          },
          "execution_count": 19
        }
      ]
    },
    {
      "cell_type": "code",
      "metadata": {
        "id": "25k1Fw7hNafV",
        "colab_type": "code",
        "colab": {
          "base_uri": "https://localhost:8080/",
          "height": 243
        },
        "outputId": "ee4541db-d8bd-40cf-a9cf-0db101a9b6fd"
      },
      "source": [
        "df[df['Arrest'] == True].Month.value_counts()"
      ],
      "execution_count": 20,
      "outputs": [
        {
          "output_type": "execute_result",
          "data": {
            "text/plain": [
              "10    1381\n",
              "12    1358\n",
              "7     1354\n",
              "1     1352\n",
              "3     1295\n",
              "8     1287\n",
              "4     1268\n",
              "11    1265\n",
              "5     1253\n",
              "6     1248\n",
              "9     1247\n",
              "2     1228\n",
              "Name: Month, dtype: int64"
            ]
          },
          "metadata": {
            "tags": []
          },
          "execution_count": 20
        }
      ]
    },
    {
      "cell_type": "code",
      "metadata": {
        "id": "Ks3IzGjmOygm",
        "colab_type": "code",
        "colab": {
          "base_uri": "https://localhost:8080/",
          "height": 260
        },
        "outputId": "72aeb869-b449-4afe-f870-f812111702e2"
      },
      "source": [
        "df.groupby('Year').ID.count()"
      ],
      "execution_count": 21,
      "outputs": [
        {
          "output_type": "execute_result",
          "data": {
            "text/plain": [
              "Year\n",
              "2001    20669\n",
              "2002    18753\n",
              "2003    16657\n",
              "2004    16862\n",
              "2005    16484\n",
              "2006    16098\n",
              "2007    14280\n",
              "2008    14445\n",
              "2009    12167\n",
              "2010    15497\n",
              "2011    15637\n",
              "2012    14092\n",
              "Name: ID, dtype: int64"
            ]
          },
          "metadata": {
            "tags": []
          },
          "execution_count": 21
        }
      ]
    },
    {
      "cell_type": "code",
      "metadata": {
        "id": "U13HUvX1QHhq",
        "colab_type": "code",
        "colab": {}
      },
      "source": [
        "year_count = df.groupby('Year', as_index=False).agg({\"ID\": \"count\"})"
      ],
      "execution_count": 0,
      "outputs": []
    },
    {
      "cell_type": "code",
      "metadata": {
        "id": "ZzYKmnmpQg81",
        "colab_type": "code",
        "colab": {
          "base_uri": "https://localhost:8080/",
          "height": 426
        },
        "outputId": "fcef77eb-9897-45d4-d211-388e77d1ee25"
      },
      "source": [
        "year_count"
      ],
      "execution_count": 23,
      "outputs": [
        {
          "output_type": "execute_result",
          "data": {
            "text/html": [
              "<div>\n",
              "<style scoped>\n",
              "    .dataframe tbody tr th:only-of-type {\n",
              "        vertical-align: middle;\n",
              "    }\n",
              "\n",
              "    .dataframe tbody tr th {\n",
              "        vertical-align: top;\n",
              "    }\n",
              "\n",
              "    .dataframe thead th {\n",
              "        text-align: right;\n",
              "    }\n",
              "</style>\n",
              "<table border=\"1\" class=\"dataframe\">\n",
              "  <thead>\n",
              "    <tr style=\"text-align: right;\">\n",
              "      <th></th>\n",
              "      <th>Year</th>\n",
              "      <th>ID</th>\n",
              "    </tr>\n",
              "  </thead>\n",
              "  <tbody>\n",
              "    <tr>\n",
              "      <th>0</th>\n",
              "      <td>2001</td>\n",
              "      <td>20669</td>\n",
              "    </tr>\n",
              "    <tr>\n",
              "      <th>1</th>\n",
              "      <td>2002</td>\n",
              "      <td>18753</td>\n",
              "    </tr>\n",
              "    <tr>\n",
              "      <th>2</th>\n",
              "      <td>2003</td>\n",
              "      <td>16657</td>\n",
              "    </tr>\n",
              "    <tr>\n",
              "      <th>3</th>\n",
              "      <td>2004</td>\n",
              "      <td>16862</td>\n",
              "    </tr>\n",
              "    <tr>\n",
              "      <th>4</th>\n",
              "      <td>2005</td>\n",
              "      <td>16484</td>\n",
              "    </tr>\n",
              "    <tr>\n",
              "      <th>5</th>\n",
              "      <td>2006</td>\n",
              "      <td>16098</td>\n",
              "    </tr>\n",
              "    <tr>\n",
              "      <th>6</th>\n",
              "      <td>2007</td>\n",
              "      <td>14280</td>\n",
              "    </tr>\n",
              "    <tr>\n",
              "      <th>7</th>\n",
              "      <td>2008</td>\n",
              "      <td>14445</td>\n",
              "    </tr>\n",
              "    <tr>\n",
              "      <th>8</th>\n",
              "      <td>2009</td>\n",
              "      <td>12167</td>\n",
              "    </tr>\n",
              "    <tr>\n",
              "      <th>9</th>\n",
              "      <td>2010</td>\n",
              "      <td>15497</td>\n",
              "    </tr>\n",
              "    <tr>\n",
              "      <th>10</th>\n",
              "      <td>2011</td>\n",
              "      <td>15637</td>\n",
              "    </tr>\n",
              "    <tr>\n",
              "      <th>11</th>\n",
              "      <td>2012</td>\n",
              "      <td>14092</td>\n",
              "    </tr>\n",
              "  </tbody>\n",
              "</table>\n",
              "</div>"
            ],
            "text/plain": [
              "    Year     ID\n",
              "0   2001  20669\n",
              "1   2002  18753\n",
              "2   2003  16657\n",
              "3   2004  16862\n",
              "4   2005  16484\n",
              "5   2006  16098\n",
              "6   2007  14280\n",
              "7   2008  14445\n",
              "8   2009  12167\n",
              "9   2010  15497\n",
              "10  2011  15637\n",
              "11  2012  14092"
            ]
          },
          "metadata": {
            "tags": []
          },
          "execution_count": 23
        }
      ]
    },
    {
      "cell_type": "code",
      "metadata": {
        "id": "ehudcg_eQkxB",
        "colab_type": "code",
        "colab": {
          "base_uri": "https://localhost:8080/",
          "height": 296
        },
        "outputId": "3dbb19ba-13b6-49ca-acca-d6b14a10bc6d"
      },
      "source": [
        "year_count.plot(x ='Year', y='ID', kind = 'line')"
      ],
      "execution_count": 24,
      "outputs": [
        {
          "output_type": "execute_result",
          "data": {
            "text/plain": [
              "<matplotlib.axes._subplots.AxesSubplot at 0x7f2d2647d5c0>"
            ]
          },
          "metadata": {
            "tags": []
          },
          "execution_count": 24
        },
        {
          "output_type": "display_data",
          "data": {
            "image/png": "[encoded data removed]",
            "text/plain": [
              "<Figure size 432x288 with 1 Axes>"
            ]
          },
          "metadata": {
            "tags": [],
            "needs_background": "light"
          }
        }
      ]
    },
    {
      "cell_type": "code",
      "metadata": {
        "id": "oWU2YvU8SHre",
        "colab_type": "code",
        "colab": {
          "base_uri": "https://localhost:8080/",
          "height": 139
        },
        "outputId": "df953cc3-ba04-45f9-8734-b14df0ec15ae"
      },
      "source": [
        "df.LocationDescription.value_counts()[:6]"
      ],
      "execution_count": 28,
      "outputs": [
        {
          "output_type": "execute_result",
          "data": {
            "text/plain": [
              "STREET                            156564\n",
              "PARKING LOT/GARAGE(NON.RESID.)     14852\n",
              "OTHER                               4573\n",
              "ALLEY                               2308\n",
              "GAS STATION                         2111\n",
              "DRIVEWAY - RESIDENTIAL              1675\n",
              "Name: LocationDescription, dtype: int64"
            ]
          },
          "metadata": {
            "tags": []
          },
          "execution_count": 28
        }
      ]
    },
    {
      "cell_type": "code",
      "metadata": {
        "id": "6EZy9V48oTzL",
        "colab_type": "code",
        "colab": {
          "base_uri": "https://localhost:8080/",
          "height": 206
        },
        "outputId": "83607ecd-d4af-4e90-a514-42e818a61289"
      },
      "source": [
        "df.head(5)"
      ],
      "execution_count": 29,
      "outputs": [
        {
          "output_type": "execute_result",
          "data": {
            "text/html": [
              "<div>\n",
              "<style scoped>\n",
              "    .dataframe tbody tr th:only-of-type {\n",
              "        vertical-align: middle;\n",
              "    }\n",
              "\n",
              "    .dataframe tbody tr th {\n",
              "        vertical-align: top;\n",
              "    }\n",
              "\n",
              "    .dataframe thead th {\n",
              "        text-align: right;\n",
              "    }\n",
              "</style>\n",
              "<table border=\"1\" class=\"dataframe\">\n",
              "  <thead>\n",
              "    <tr style=\"text-align: right;\">\n",
              "      <th></th>\n",
              "      <th>ID</th>\n",
              "      <th>Date</th>\n",
              "      <th>LocationDescription</th>\n",
              "      <th>Arrest</th>\n",
              "      <th>Domestic</th>\n",
              "      <th>Beat</th>\n",
              "      <th>District</th>\n",
              "      <th>CommunityArea</th>\n",
              "      <th>Year</th>\n",
              "      <th>Month</th>\n",
              "      <th>Weekday</th>\n",
              "    </tr>\n",
              "  </thead>\n",
              "  <tbody>\n",
              "    <tr>\n",
              "      <th>0</th>\n",
              "      <td>8951354</td>\n",
              "      <td>2012-12-31 23:15:00</td>\n",
              "      <td>STREET</td>\n",
              "      <td>False</td>\n",
              "      <td>False</td>\n",
              "      <td>623</td>\n",
              "      <td>6</td>\n",
              "      <td>69</td>\n",
              "      <td>2012</td>\n",
              "      <td>12</td>\n",
              "      <td>Monday</td>\n",
              "    </tr>\n",
              "    <tr>\n",
              "      <th>1</th>\n",
              "      <td>8951141</td>\n",
              "      <td>2012-12-31 22:00:00</td>\n",
              "      <td>STREET</td>\n",
              "      <td>False</td>\n",
              "      <td>False</td>\n",
              "      <td>1213</td>\n",
              "      <td>12</td>\n",
              "      <td>24</td>\n",
              "      <td>2012</td>\n",
              "      <td>12</td>\n",
              "      <td>Monday</td>\n",
              "    </tr>\n",
              "    <tr>\n",
              "      <th>2</th>\n",
              "      <td>8952745</td>\n",
              "      <td>2012-12-31 22:00:00</td>\n",
              "      <td>RESIDENTIAL YARD (FRONT/BACK)</td>\n",
              "      <td>False</td>\n",
              "      <td>False</td>\n",
              "      <td>1622</td>\n",
              "      <td>16</td>\n",
              "      <td>11</td>\n",
              "      <td>2012</td>\n",
              "      <td>12</td>\n",
              "      <td>Monday</td>\n",
              "    </tr>\n",
              "    <tr>\n",
              "      <th>3</th>\n",
              "      <td>8952223</td>\n",
              "      <td>2012-12-31 22:00:00</td>\n",
              "      <td>STREET</td>\n",
              "      <td>False</td>\n",
              "      <td>False</td>\n",
              "      <td>724</td>\n",
              "      <td>7</td>\n",
              "      <td>67</td>\n",
              "      <td>2012</td>\n",
              "      <td>12</td>\n",
              "      <td>Monday</td>\n",
              "    </tr>\n",
              "    <tr>\n",
              "      <th>4</th>\n",
              "      <td>8951608</td>\n",
              "      <td>2012-12-31 21:30:00</td>\n",
              "      <td>STREET</td>\n",
              "      <td>False</td>\n",
              "      <td>False</td>\n",
              "      <td>211</td>\n",
              "      <td>2</td>\n",
              "      <td>35</td>\n",
              "      <td>2012</td>\n",
              "      <td>12</td>\n",
              "      <td>Monday</td>\n",
              "    </tr>\n",
              "  </tbody>\n",
              "</table>\n",
              "</div>"
            ],
            "text/plain": [
              "        ID                Date  ... Month  Weekday\n",
              "0  8951354 2012-12-31 23:15:00  ...    12   Monday\n",
              "1  8951141 2012-12-31 22:00:00  ...    12   Monday\n",
              "2  8952745 2012-12-31 22:00:00  ...    12   Monday\n",
              "3  8952223 2012-12-31 22:00:00  ...    12   Monday\n",
              "4  8951608 2012-12-31 21:30:00  ...    12   Monday\n",
              "\n",
              "[5 rows x 11 columns]"
            ]
          },
          "metadata": {
            "tags": []
          },
          "execution_count": 29
        }
      ]
    },
    {
      "cell_type": "code",
      "metadata": {
        "id": "HbWxm70Boi_n",
        "colab_type": "code",
        "colab": {
          "base_uri": "https://localhost:8080/",
          "height": 260
        },
        "outputId": "3fba6577-6177-46c7-bea3-72d43dab9d5a"
      },
      "source": [
        "tr = df[df['Arrest'] == True].groupby('Year').ID.count()\n",
        "tr"
      ],
      "execution_count": 44,
      "outputs": [
        {
          "output_type": "execute_result",
          "data": {
            "text/plain": [
              "Year\n",
              "2001    2152\n",
              "2002    2115\n",
              "2003    1798\n",
              "2004    1693\n",
              "2005    1528\n",
              "2006    1302\n",
              "2007    1212\n",
              "2008    1020\n",
              "2009     840\n",
              "2010     701\n",
              "2011     625\n",
              "2012     550\n",
              "Name: ID, dtype: int64"
            ]
          },
          "metadata": {
            "tags": []
          },
          "execution_count": 44
        }
      ]
    },
    {
      "cell_type": "code",
      "metadata": {
        "id": "Y3J77UFFpKE6",
        "colab_type": "code",
        "colab": {
          "base_uri": "https://localhost:8080/",
          "height": 260
        },
        "outputId": "d67ac613-114f-4463-81a2-fb09d1dc5ec7"
      },
      "source": [
        "fl = df[df['Arrest'] == False].groupby('Year').ID.count()\n",
        "fl"
      ],
      "execution_count": 45,
      "outputs": [
        {
          "output_type": "execute_result",
          "data": {
            "text/plain": [
              "Year\n",
              "2001    18517\n",
              "2002    16638\n",
              "2003    14859\n",
              "2004    15169\n",
              "2005    14956\n",
              "2006    14796\n",
              "2007    13068\n",
              "2008    13425\n",
              "2009    11327\n",
              "2010    14796\n",
              "2011    15012\n",
              "2012    13542\n",
              "Name: ID, dtype: int64"
            ]
          },
          "metadata": {
            "tags": []
          },
          "execution_count": 45
        }
      ]
    },
    {
      "cell_type": "code",
      "metadata": {
        "id": "6wvvd-VGqDfo",
        "colab_type": "code",
        "colab": {
          "base_uri": "https://localhost:8080/",
          "height": 260
        },
        "outputId": "b6289130-3eb1-4da7-f882-b650369dd4ee"
      },
      "source": [
        "tr/(tr+fl)"
      ],
      "execution_count": 46,
      "outputs": [
        {
          "output_type": "execute_result",
          "data": {
            "text/plain": [
              "Year\n",
              "2001    0.104117\n",
              "2002    0.112782\n",
              "2003    0.107943\n",
              "2004    0.100403\n",
              "2005    0.092696\n",
              "2006    0.080880\n",
              "2007    0.084874\n",
              "2008    0.070613\n",
              "2009    0.069039\n",
              "2010    0.045235\n",
              "2011    0.039969\n",
              "2012    0.039029\n",
              "Name: ID, dtype: float64"
            ]
          },
          "metadata": {
            "tags": []
          },
          "execution_count": 46
        }
      ]
    },
    {
      "cell_type": "code",
      "metadata": {
        "id": "F3Ymc7W8tr4U",
        "colab_type": "code",
        "colab": {}
      },
      "source": [
        "locations = ['STREET','PARKING LOT/GARAGE(NON.RESID.)','ALLEY','GAS STATION','DRIVEWAY - RESIDENTIAL']\n",
        "new_loc = df[df['LocationDescription'].isin(locations)]"
      ],
      "execution_count": 0,
      "outputs": []
    },
    {
      "cell_type": "code",
      "metadata": {
        "id": "UOTkLN7kvEug",
        "colab_type": "code",
        "colab": {
          "base_uri": "https://localhost:8080/",
          "height": 34
        },
        "outputId": "118561c1-e805-4fc1-9915-1ffafc0c01bf"
      },
      "source": [
        "new_loc.shape"
      ],
      "execution_count": 49,
      "outputs": [
        {
          "output_type": "execute_result",
          "data": {
            "text/plain": [
              "(177510, 11)"
            ]
          },
          "metadata": {
            "tags": []
          },
          "execution_count": 49
        }
      ]
    },
    {
      "cell_type": "code",
      "metadata": {
        "id": "0LJofKCdvn7G",
        "colab_type": "code",
        "colab": {
          "base_uri": "https://localhost:8080/",
          "height": 156
        },
        "outputId": "c7b9dc21-1636-4bc9-d5b3-5c622bb5d902"
      },
      "source": [
        "df[df['LocationDescription'] =='GAS STATION'].Weekday.value_counts()"
      ],
      "execution_count": 52,
      "outputs": [
        {
          "output_type": "execute_result",
          "data": {
            "text/plain": [
              "Saturday     345\n",
              "Sunday       318\n",
              "Friday       316\n",
              "Wednesday    294\n",
              "Monday       287\n",
              "Thursday     282\n",
              "Tuesday      269\n",
              "Name: Weekday, dtype: int64"
            ]
          },
          "metadata": {
            "tags": []
          },
          "execution_count": 52
        }
      ]
    }
  ]
}